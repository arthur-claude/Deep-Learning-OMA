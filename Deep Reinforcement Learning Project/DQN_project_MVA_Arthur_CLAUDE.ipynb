{
 "cells": [
  {
   "cell_type": "markdown",
   "metadata": {},
   "source": [
    "**You may need to install [OpenCV](https://pypi.python.org/pypi/opencv-python) and [scikit-video](http://www.scikit-video.org/stable/).**"
   ]
  },
  {
   "cell_type": "code",
   "execution_count": 1,
   "metadata": {},
   "outputs": [
    {
     "name": "stderr",
     "output_type": "stream",
     "text": [
      "Using TensorFlow backend.\n"
     ]
    }
   ],
   "source": [
    "import keras\n",
    "import numpy as np\n",
    "import io\n",
    "import base64\n",
    "from IPython.display import HTML\n",
    "import skvideo.io\n",
    "import cv2\n",
    "import json\n",
    "\n",
    "from keras.models import Sequential,model_from_json\n",
    "from keras.layers.core import Dense, Flatten\n",
    "from keras.optimizers import sgd\n",
    "from keras.layers import Conv2D, MaxPooling2D, Activation, AveragePooling2D,Reshape,BatchNormalization"
   ]
  },
  {
   "cell_type": "markdown",
   "metadata": {},
   "source": [
    "# MiniProject on Deep Reinforcement Learning"
   ]
  },
  {
   "cell_type": "markdown",
   "metadata": {},
   "source": [
    "__Notations__: $E_p$ is the expectation under probability $p$. Please justify each of your answer and widely comment your code."
   ]
  },
  {
   "cell_type": "markdown",
   "metadata": {},
   "source": [
    "# Context"
   ]
  },
  {
   "cell_type": "markdown",
   "metadata": {},
   "source": [
    "In a reinforcement learning algorithm, we modelize each step $t$ as an action $a_t$ obtained from a state $s_t$, i.e. $\\{(a_{t},s_{t})_{t\\leq T}\\}$ having the Markov property. We consider a discount factor $\\gamma \\in [0,1]$ that ensures convergence. The goal is to find among all the policies $\\pi$, one that maximizes the expected reward:\n",
    "\n",
    "\\begin{equation*}\n",
    "R(\\pi)=\\sum_{t\\leq T}E_{p^{\\pi}}[\\gamma^t r(s_{t},a_{t})] \\> ,\n",
    "\\end{equation*}\n",
    "\n",
    "where: \n",
    "\n",
    "\\begin{equation*}p^{\\pi}(a_{0},a_{1},s_{1},...,a_{T},s_{T})=p(a_{0})\\prod_{t=1}^{T}\\pi(a_{t}|s_{t})p(s_{t+1}|s_{t},a_{t}) \\> .\n",
    "\\end{equation*}\n",
    "\n",
    "We note the $Q$-function:\n",
    "\n",
    "\\begin{equation*}Q^\\pi(s,a)=E_{p^{\\pi}}[\\sum_{t\\leq T}\\gamma^{t}r(s_{t},a_{t})|s_{0}=s,a_{0}=a] \\> .\n",
    "\\end{equation*}\n",
    "\n",
    "Thus, the optimal Q function is:\n",
    "\\begin{equation*}\n",
    "Q^*(s,a)=\\max_{\\pi}Q^\\pi(s,a) \\> .\n",
    "\\end{equation*}\n",
    "\n",
    "In this project, we will apply the deep reinforcement learning techniques to a simple game: an agent will have to learn from scratch a policy that will permit it maximizing a reward."
   ]
  },
  {
   "cell_type": "markdown",
   "metadata": {},
   "source": [
    "## The environment, the agent and the game"
   ]
  },
  {
   "cell_type": "markdown",
   "metadata": {},
   "source": [
    "### The environment"
   ]
  },
  {
   "cell_type": "markdown",
   "metadata": {},
   "source": [
    "```Environment``` is an abstract class that represents the states, rewards, and actions to obtain the new state."
   ]
  },
  {
   "cell_type": "code",
   "execution_count": 2,
   "metadata": {},
   "outputs": [],
   "source": [
    "class Environment(object):\n",
    "    def __init__(self):\n",
    "        pass\n",
    "\n",
    "    def act(self, act):\n",
    "        \"\"\"\n",
    "        One can act on the environment and obtain its reaction:\n",
    "        - the new state\n",
    "        - the reward of the new state\n",
    "        - should we continue the game?\n",
    "\n",
    "        :return: state, reward, game_over\n",
    "        \"\"\"\n",
    "        pass\n",
    "\n",
    "\n",
    "    def reset(self):\n",
    "        \"\"\"\n",
    "        Reinitialize the environment to a random state and returns\n",
    "        the original state\n",
    "\n",
    "        :return: state\n",
    "        \"\"\"\n",
    "        pass\n",
    "    \n",
    "    def draw(self):\n",
    "        \"\"\"\n",
    "        Visualize in the console or graphically the current state\n",
    "        \"\"\"\n",
    "        pass"
   ]
  },
  {
   "cell_type": "markdown",
   "metadata": {},
   "source": [
    "The method ```act``` allows to act on the environment at a given state $s_t$ (stored internally), via action $a_t$. The method will return the new state $s_{t+1}$, the reward $r(s_{t},a_{t})$ and determines if $t\\leq T$ (*game_over*).\n",
    "\n",
    "The method ```reset``` simply reinitializes the environment to a random state $s_0$.\n",
    "\n",
    "The method ```draw``` displays the current state $s_t$ (this is useful to check the behavior of the Agent).\n",
    "\n",
    "We modelize $s_t$ as a tensor, while $a_t$ is an integer."
   ]
  },
  {
   "cell_type": "markdown",
   "metadata": {},
   "source": [
    "### The Agent"
   ]
  },
  {
   "cell_type": "markdown",
   "metadata": {},
   "source": [
    "The goal of the ```Agent``` is to interact with the ```Environment``` by proposing actions $a_t$ obtained from a given state $s_t$ to attempt to maximize its __reward__ $r(s_t,a_t)$. We propose the following abstract class:"
   ]
  },
  {
   "cell_type": "code",
   "execution_count": 3,
   "metadata": {},
   "outputs": [],
   "source": [
    "class Agent(object):\n",
    "    def __init__(self, epsilon=0.1, n_action=4):\n",
    "        self.epsilon = epsilon\n",
    "        self.n_action = n_action\n",
    "    \n",
    "    def set_epsilon(self,e):\n",
    "        self.epsilon = e\n",
    "\n",
    "    def act(self,s,train=True):\n",
    "        \"\"\" This function should return the next action to do:\n",
    "        an integer between 0 and 4 (not included) with a random exploration of epsilon\"\"\"\n",
    "        if train:\n",
    "            if np.random.rand() <= self.epsilon:\n",
    "                a = np.random.randint(0, self.n_action, size=1)[0]\n",
    "            else:\n",
    "                a = self.learned_act(s)\n",
    "        else: # in some cases, this can improve the performance.. remove it if poor performances\n",
    "            a = self.learned_act(s)\n",
    "\n",
    "        return a\n",
    "\n",
    "    def learned_act(self,s):\n",
    "        \"\"\" Act via the policy of the agent, from a given state s\n",
    "        it proposes an action a\"\"\"\n",
    "        pass\n",
    "\n",
    "    def reinforce(self, s, n_s, a, r, game_over_):\n",
    "        \"\"\" This function is the core of the learning algorithm. \n",
    "        It takes as an input the current state s_, the next state n_s_\n",
    "        the action a_ used to move from s_ to n_s_ and the reward r_.\n",
    "        \n",
    "        Its goal is to learn a policy.\n",
    "        \"\"\"\n",
    "        pass\n",
    "\n",
    "    def save(self):\n",
    "        \"\"\" This function returns basic stats if applicable: the\n",
    "        loss and/or the model\"\"\"\n",
    "        pass\n",
    "\n",
    "    def load(self):\n",
    "        \"\"\" This function allows to restore a model\"\"\"\n",
    "        pass"
   ]
  },
  {
   "cell_type": "markdown",
   "metadata": {},
   "source": [
    "***\n",
    "__Question 1__:\n",
    "Explain the function act. Why is ```epsilon``` essential?"
   ]
  },
  {
   "cell_type": "markdown",
   "metadata": {},
   "source": [
    "The function **act** returns the next action to do. It firstly generates a random number between 0 and 1. If this number is lower than **epsilon**, the next action is chosen randomly (Exploration), and if this number is higher than **epsilon**, the action is chosen thanks to the policy learned by reinforcement of the agent (Exploitation).\n",
    "\n",
    "**Epsilon** determines the rate of randomly selected actions (random exploration). \n",
    "\n",
    "This random exploration is essential. In fact, the agent needs to explore its environment in order to discover the best actions to do. If not, it will always do the best action learned until now and will never learn new behaviors that could be better."
   ]
  },
  {
   "cell_type": "markdown",
   "metadata": {},
   "source": [
    "***\n",
    "### The Game"
   ]
  },
  {
   "cell_type": "markdown",
   "metadata": {},
   "source": [
    "The ```Agent``` and the ```Environment``` work in an interlaced way as in the following (take some time to understand this code as it is the core of the project)\n",
    "\n",
    "```python\n",
    "\n",
    "epoch = 300\n",
    "env = Environment()\n",
    "agent = Agent()\n",
    "\n",
    "\n",
    "# Number of won games\n",
    "score = 0\n",
    "loss = 0\n",
    "\n",
    "\n",
    "for e in range(epoch):\n",
    "    # At each epoch, we restart to a fresh game and get the initial state\n",
    "    state = env.reset()\n",
    "    # This assumes that the games will end\n",
    "    game_over = False\n",
    "\n",
    "    win = 0\n",
    "    lose = 0\n",
    "    \n",
    "    while not game_over:\n",
    "        # The agent performs an action\n",
    "        action = agent.act(state)\n",
    "\n",
    "        # Apply an action to the environment, get the next state, the reward\n",
    "        # and if the games end\n",
    "        prev_state = state\n",
    "        state, reward, game_over = env.act(action)\n",
    "\n",
    "        # Update the counters\n",
    "        if reward > 0:\n",
    "            win = win + reward\n",
    "        if reward < 0:\n",
    "            lose = lose -reward\n",
    "\n",
    "        # Apply the reinforcement strategy\n",
    "        loss = agent.reinforce(prev_state, state,  action, reward, game_over)\n",
    "\n",
    "    # Save as a mp4\n",
    "    if e % 10 == 0:\n",
    "        env.draw(e)\n",
    "\n",
    "    # Update stats\n",
    "    score += win-lose\n",
    "\n",
    "    print(\"Epoch {:03d}/{:03d} | Loss {:.4f} | Win/lose count {}/{} ({})\"\n",
    "          .format(e, epoch, loss, win, lose, win-lose))\n",
    "    agent.save()\n",
    "```"
   ]
  },
  {
   "cell_type": "markdown",
   "metadata": {},
   "source": [
    "# The game, *eat cheese*"
   ]
  },
  {
   "cell_type": "markdown",
   "metadata": {},
   "source": [
    "A rat runs on an island and tries to eat as much as possible. The island is subdivided into $N\\times N$ cells, in which there are cheese (+0.5) and poisonous cells (-1). The rat has a visibility of 2 cells (thus it can see $5^2$ cells). The rat is given a time $T$ to accumulate as much food as possible. It can perform 4 actions: going up, down, left, right. \n",
    "\n",
    "The goal is to code an agent to solve this task that will learn by trial and error. We propose the following environment:"
   ]
  },
  {
   "cell_type": "code",
   "execution_count": 4,
   "metadata": {},
   "outputs": [],
   "source": [
    "class Environment(object):\n",
    "    def __init__(self, grid_size=10, max_time=500, temperature=0.1):\n",
    "        grid_size = grid_size+4\n",
    "        self.grid_size = grid_size\n",
    "        self.max_time = max_time\n",
    "        self.temperature = temperature\n",
    "\n",
    "        #board on which one plays\n",
    "        self.board = np.zeros((grid_size,grid_size))\n",
    "        self.position = np.zeros((grid_size,grid_size))\n",
    "\n",
    "        # coordinate of the cat\n",
    "        self.x = 0\n",
    "        self.y = 1\n",
    "\n",
    "        # self time\n",
    "        self.t = 0\n",
    "\n",
    "        self.scale=16\n",
    "\n",
    "        self.to_draw = np.zeros((max_time+2, grid_size*self.scale, grid_size*self.scale, 3))\n",
    "\n",
    "\n",
    "    def draw(self,e):\n",
    "        skvideo.io.vwrite(str(e) + '.mp4', self.to_draw)\n",
    "\n",
    "    def get_frame(self,t):\n",
    "        b = np.zeros((self.grid_size,self.grid_size,3))+128\n",
    "        b[self.board>0,0] = 256\n",
    "        b[self.board < 0, 2] = 256\n",
    "        b[self.x,self.y,:]=256\n",
    "        b[-2:,:,:]=0\n",
    "        b[:,-2:,:]=0\n",
    "        b[:2,:,:]=0\n",
    "        b[:,:2,:]=0\n",
    "        \n",
    "        b =  cv2.resize(b, None, fx=self.scale, fy=self.scale, interpolation=cv2.INTER_NEAREST)\n",
    "\n",
    "        self.to_draw[t,:,:,:]=b\n",
    "\n",
    "\n",
    "    def act(self, action):\n",
    "        \"\"\"This function returns the new state, reward and decides if the\n",
    "        game ends.\"\"\"\n",
    "\n",
    "        self.get_frame(int(self.t))\n",
    "\n",
    "        self.position = np.zeros((self.grid_size, self.grid_size))\n",
    "\n",
    "        self.position[0:2,:]= -1\n",
    "        self.position[:,0:2] = -1\n",
    "        self.position[-2:, :] = -1\n",
    "        self.position[:, -2:] = -1 # THERE WAS A MISTAKE HERE\n",
    "\n",
    "        self.position[self.x, self.y] = 1\n",
    "        if action == 0:\n",
    "            if self.x == self.grid_size-3:\n",
    "                self.x = self.x-1\n",
    "            else:\n",
    "                self.x = self.x + 1\n",
    "        elif action == 1:\n",
    "            if self.x == 2:\n",
    "                self.x = self.x+1\n",
    "            else:\n",
    "                self.x = self.x-1\n",
    "        elif action == 2:\n",
    "            if self.y == self.grid_size - 3:\n",
    "                self.y = self.y - 1\n",
    "            else:\n",
    "                self.y = self.y + 1\n",
    "        elif action == 3:\n",
    "            if self.y == 2:\n",
    "                self.y = self.y + 1\n",
    "            else:\n",
    "                self.y = self.y - 1\n",
    "        else:\n",
    "            RuntimeError('Error: action not recognized')\n",
    "\n",
    "        self.t = self.t + 1\n",
    "        reward = self.board[self.x, self.y]\n",
    "        self.board[self.x, self.y] = 0\n",
    "        game_over = self.t > self.max_time\n",
    "        state = np.concatenate((self.board.reshape(self.grid_size, self.grid_size,1),\n",
    "                        self.position.reshape(self.grid_size, self.grid_size,1)),axis=2)\n",
    "        state = state[self.x-2:self.x+3,self.y-2:self.y+3,:]\n",
    "\n",
    "        return state, reward, game_over\n",
    "\n",
    "    def reset(self):\n",
    "        \"\"\"This function resets the game and returns the initial state\"\"\"\n",
    "\n",
    "        self.x = np.random.randint(3, self.grid_size-3, size=1)[0]\n",
    "        self.y = np.random.randint(3, self.grid_size-3, size=1)[0]\n",
    "\n",
    "\n",
    "        bonus = 0.5*np.random.binomial(1,self.temperature,size=self.grid_size**2)\n",
    "        bonus = bonus.reshape(self.grid_size,self.grid_size)\n",
    "\n",
    "        malus = -1.0*np.random.binomial(1,self.temperature,size=self.grid_size**2)\n",
    "        malus = malus.reshape(self.grid_size, self.grid_size)\n",
    "\n",
    "        self.to_draw = np.zeros((self.max_time+2, self.grid_size*self.scale, self.grid_size*self.scale, 3))\n",
    "\n",
    "\n",
    "        malus[bonus>0]=0\n",
    "\n",
    "        self.board = bonus + malus\n",
    "\n",
    "        self.position = np.zeros((self.grid_size, self.grid_size))\n",
    "        self.position[0:2,:]= -1\n",
    "        self.position[:,0:2] = -1\n",
    "        self.position[-2:, :] = -1\n",
    "        self.position[:, -2:] = -1 # THERE WAS A MISTAKE HERE\n",
    "        self.board[self.x,self.y] = 0\n",
    "        self.t = 0\n",
    "\n",
    "        state = np.concatenate((\n",
    "                               self.board.reshape(self.grid_size, self.grid_size,1),\n",
    "                        self.position.reshape(self.grid_size, self.grid_size,1)),axis=2)\n",
    "\n",
    "        state = state[self.x - 2:self.x + 3, self.y - 2:self.y + 3, :]\n",
    "        return state"
   ]
  },
  {
   "cell_type": "markdown",
   "metadata": {},
   "source": [
    "The following elements are important because they correspond to the hyper parameters for this project:"
   ]
  },
  {
   "cell_type": "code",
   "execution_count": 5,
   "metadata": {},
   "outputs": [],
   "source": [
    "# parameters\n",
    "size = 13\n",
    "T=200\n",
    "temperature=0.3\n",
    "epochs_train=5 # set small when debugging\n",
    "epochs_test=5 # set small when debugging\n",
    "\n",
    "# display videos\n",
    "def display_videos(name):\n",
    "    video = io.open(name, 'r+b').read()\n",
    "    encoded = base64.b64encode(video)\n",
    "    return '''<video alt=\"test\" controls>\n",
    "                <source src=\"data:video/mp4;base64,{0}\" type=\"video/mp4\" />\n",
    "             </video>'''.format(encoded.decode('ascii'))"
   ]
  },
  {
   "cell_type": "markdown",
   "metadata": {},
   "source": [
    "__Question 2__ Explain the use of the arrays ```position``` and ```board```."
   ]
  },
  {
   "cell_type": "markdown",
   "metadata": {},
   "source": [
    "The arrays **position** and **board** represent the island on which the rat is running. They are initialized by a square of side equal to **grid_size** filled with zeros. On each side, two lines (or columns) of -1 are added. \n",
    "\n",
    "The array **position** is used to represent the path of the rat. The element whose coordinates are equal to those of the rat's position is set to 1 over iterations.\n",
    "\n",
    "The array **board** is used to represent the rewards. The elements whose coordinates are equal to those of the cheese are set to 0.5 and the elements whose coordinates are equal to those of the poison are set to -1."
   ]
  },
  {
   "cell_type": "markdown",
   "metadata": {},
   "source": [
    "## Random Agent"
   ]
  },
  {
   "cell_type": "markdown",
   "metadata": {},
   "source": [
    "***\n",
    "__Question 3__ Implement a random Agent (only ```learned_act``` needs to be implemented):"
   ]
  },
  {
   "cell_type": "code",
   "execution_count": 6,
   "metadata": {},
   "outputs": [],
   "source": [
    "class RandomAgent(Agent):\n",
    "    def __init__(self):\n",
    "        super(RandomAgent, self).__init__()\n",
    "        pass\n",
    "\n",
    "    def learned_act(self, s):\n",
    "        a = np.random.randint(4)\n",
    "        return a\n"
   ]
  },
  {
   "cell_type": "markdown",
   "metadata": {},
   "source": [
    "***\n",
    "***\n",
    "__Question 4__ Visualize the game moves. You need to fill in the following function for the evaluation:"
   ]
  },
  {
   "cell_type": "code",
   "execution_count": 7,
   "metadata": {},
   "outputs": [],
   "source": [
    "def test(agent,env,epochs,prefix=''):\n",
    "    # Number of won games\n",
    "    score = 0\n",
    "        \n",
    "    for e in range(epochs):\n",
    "        # At each epoch, we restart to a fresh game and get the initial state\n",
    "        state = env.reset()\n",
    "        # This assumes that the games will end\n",
    "        game_over = False\n",
    "\n",
    "        win = 0\n",
    "        lose = 0\n",
    "\n",
    "        while not game_over:\n",
    "            # The agent performs an action\n",
    "            action = agent.learned_act(state) # Not act here because no function act in the RandomAgent class \n",
    "                                              # No additional random exploration of epsilon\n",
    "\n",
    "            # Apply an action to the environment, get the next state, the reward\n",
    "            # and if the games end    \n",
    "            prev_state = state\n",
    "            state, reward, game_over = env.act(action)\n",
    "\n",
    "            # Update the counters\n",
    "            if reward > 0:\n",
    "                win = win + reward\n",
    "            if reward < 0:\n",
    "                lose = lose -reward\n",
    "        \n",
    "        # Save as a mp4\n",
    "        env.draw(prefix+str(e))\n",
    "\n",
    "        # Update stats\n",
    "        score = score + win-lose\n",
    "\n",
    "        print(\"Win/lose count {}/{}. Average score ({})\"\n",
    "              .format(win, lose, score/(1+e)))\n",
    "    print('Final score: '+str(score/epochs))"
   ]
  },
  {
   "cell_type": "code",
   "execution_count": 8,
   "metadata": {},
   "outputs": [
    {
     "name": "stdout",
     "output_type": "stream",
     "text": [
      "Win/lose count 9.0/8.0. Average score (1.0)\n",
      "Win/lose count 10.0/15.0. Average score (-2.0)\n",
      "Win/lose count 10.0/11.0. Average score (-1.6666666666666667)\n",
      "Win/lose count 9.5/19.0. Average score (-3.625)\n",
      "Win/lose count 11.0/12.0. Average score (-3.1)\n",
      "Final score: -3.1\n"
     ]
    },
    {
     "data": {
      "text/html": [
       "<video alt=\"test\" controls>\n",
       "                <source src=\"data:video/mp4;base64,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\" type=\"video/mp4\" />\n",
       "             </video>"
      ],
      "text/plain": [
       "<IPython.core.display.HTML object>"
      ]
     },
     "execution_count": 8,
     "metadata": {},
     "output_type": "execute_result"
    }
   ],
   "source": [
    "# Initialize the game\n",
    "env = Environment(grid_size=size, max_time=T,temperature=temperature)\n",
    "\n",
    "# Initialize the agent!\n",
    "agent = RandomAgent()\n",
    "\n",
    "test(agent,env,epochs_test,prefix='random')\n",
    "HTML(display_videos('random0.mp4'))"
   ]
  },
  {
   "cell_type": "markdown",
   "metadata": {},
   "source": [
    "***\n",
    "## DQN"
   ]
  },
  {
   "cell_type": "markdown",
   "metadata": {},
   "source": [
    "Let us assume here that $T=\\infty$.\n",
    "\n",
    "***\n",
    "__Question 5__ Let $\\pi$ be a policy, show that:\n",
    "\n",
    "\\begin{equation*}\n",
    "Q^{\\pi}(s,a)=E_{(s',a')\\sim p(.|s,a)}[r(s,a)+\\gamma Q^{\\pi}(s',a')]\n",
    "\\end{equation*}\n",
    "\n",
    "Then, show that for the optimal policy $\\pi^*$ (we assume its existence), the following holds: \n",
    "\n",
    "\\begin{equation*}\n",
    "Q^{*}(s,a)=E_{s'\\sim \\pi^*(.|s,a)}[r(s,a)+\\gamma\\max_{a'}Q^{*}(s',a')].\n",
    "\\end{equation*}\n",
    "Finally, deduce that a plausible objective is:\n",
    "\n",
    "\\begin{equation*}\n",
    "\\mathcal{L}(\\theta)=E_{s' \\sim \\pi^*(.|s,a)}\\Vert r+\\gamma\\max\\max_{a'}Q(s',a',\\theta)-Q(s,a,\\theta)\\Vert^{2}.\n",
    "\\end{equation*}\n",
    "\n",
    "\n"
   ]
  },
  {
   "cell_type": "markdown",
   "metadata": {},
   "source": [
    "(a) We have : \n",
    "\n",
    "$$\\begin{align*}\n",
    "  Q^\\pi(s,a) &= E_{p^{\\pi}}[\\sum_{t=0}^{+\\infty}\\gamma^{t}r(s_{t},a_{t})|s_{0}=s,a_{0}=a] \\\\\n",
    "             &= E_{p^{\\pi}}[r(s_{0},a_{0}) + \\sum_{t=1}^{+\\infty}\\gamma^{t}r(s_{t},a_{t})|s_{0}=s,a_{0}=a] \\\\\n",
    "             &= E_{p^{\\pi}}[r(s,a) + \\gamma \\sum_{t=0}^{+\\infty}\\gamma^{t}r(s_{t+1},a_{t+1})|s_{0}=s,a_{0}=a] \\\\\n",
    "             &= E_{p^{\\pi}}[E_{p^{\\pi}}[r(s,a) + \\gamma \\sum_{t=0}^{+\\infty}\\gamma^{t}r(s_{t+1},a_{t+1})|s_{1}=s',a_{1}=a']|s_{0}=s,a_{0}=a] \\\\\n",
    "             &= E_{p^{\\pi}}[r(s,a) + \\gamma E_{p^{\\pi}}[ \\sum_{t=0}^{+\\infty}\\gamma^{t}r(s_{t+1},a_{t+1})|s_{1}=s',a_{1}=a']|s_{0}=s,a_{0}=a] \\\\\n",
    "             &= E_{(s',a')\\sim p(.|s,a)}[r(s,a) + \\gamma E_{p^{\\pi}}[ \\sum_{t=0}^{+\\infty}\\gamma^{t}r(s_{t+1},a_{t+1})|s_{1}=s',a_{1}=a']] \\\\\n",
    "   Q^\\pi(s,a) &= E_{(s',a')\\sim p(.|s,a)}[r(s,a) + \\gamma Q^\\pi(s',a')] \\\\\n",
    "\\end{align*}$$\n",
    "\n",
    "This equation is named the Bellman's equation.\n",
    "\n",
    "\n",
    "(b) We have : $Q^*(s,a)=\\max_{\\pi}Q^\\pi(s,a)$. \n",
    "\n",
    "We maximize the previous result with respect to $\\pi$. However, as the only variable controled by $\\pi$ is $a'$, this is equivalent to maximize the second term with respect to $a'$.\n",
    "\n",
    "We have : \n",
    "$$\\begin{align*}\n",
    "    Q^*(s,a) &= r(s,a) + \\gamma E_{(s^\\prime, a^\\prime)\\sim p^{\\pi^*}(.|s,a)} [\\max_{a^\\prime}Q^*(s^\\prime,a^\\prime)]\\\\\n",
    "    Q^*(s,a) &= E_{s'\\sim \\pi^*(.|s,a)}[r(s,a)+\\gamma\\max_{a'}Q^{*}(s',a')]\n",
    "\\end{align*}$$\n",
    "\n",
    "\n",
    "(c) Minimizing the loss $\\mathcal{L}(\\theta)=E_{s' \\sim \\pi^*(.|s,a)}\\Vert r+\\gamma\\max_{a'}Q(s',a',\\theta)-Q(s,a,\\theta)\\Vert^{2}$ is equivalent to find the optimal $Q$-function ($Q^*(s,a)$). In fact, we are looking for the optimal $Q$-function by looking for the fixed point of the previous equation.\n"
   ]
  },
  {
   "cell_type": "markdown",
   "metadata": {},
   "source": [
    "***\n",
    "The DQN-learning algorithm relies on these derivations to train the parameters $\\theta$ of a Deep Neural Network:\n",
    "\n",
    "1. At the state $s_t$, select the action $a_t$ with best reward using $Q_t$ and store the results;\n",
    "\n",
    "2. Obtain the new state $s_{t+1}$ from the environment $p$;\n",
    "\n",
    "3. Store $(s_t,a_t,s_{t+1})$;\n",
    "\n",
    "4. Obtain $Q_{t+1}$ by minimizing  $\\mathcal{L}$ from a recovered batch from the previously stored results.\n",
    "\n",
    "***\n",
    "__Question 6__ Implement the class ```Memory``` that stores moves (in a replay buffer) via ```remember``` and provides a ```random_access``` to these. Specify a maximum memory size to avoid side effects. You can for example use a ```list()``` and set by default ```max_memory=100```."
   ]
  },
  {
   "cell_type": "code",
   "execution_count": 8,
   "metadata": {},
   "outputs": [],
   "source": [
    "class Memory(object):\n",
    "    def __init__(self, max_memory=100):\n",
    "        self.max_memory = max_memory\n",
    "        self.memory = list()\n",
    "\n",
    "    def remember(self, m):\n",
    "        if len(self.memory) >= self.max_memory:\n",
    "            del self.memory[0]\n",
    "        self.memory.append(m)\n",
    "\n",
    "    def random_access(self):\n",
    "        l = len(self.memory)\n",
    "        return self.memory[np.random.randint(l)]"
   ]
  },
  {
   "cell_type": "markdown",
   "metadata": {},
   "source": [
    "***\n",
    "The pipeline we will use for training is given below:"
   ]
  },
  {
   "cell_type": "code",
   "execution_count": 9,
   "metadata": {},
   "outputs": [],
   "source": [
    "def train(agent,env,epoch,prefix=''):\n",
    "    # Number of won games\n",
    "    score = 0\n",
    "    loss = 0\n",
    "\n",
    "    for e in range(epoch):\n",
    "        # At each epoch, we restart to a fresh game and get the initial state\n",
    "        state = env.reset()\n",
    "        # This assumes that the games will terminate\n",
    "        game_over = False\n",
    "\n",
    "        win = 0\n",
    "        lose = 0\n",
    "\n",
    "        while not game_over:\n",
    "            # The agent performs an action\n",
    "            action = agent.act(state)\n",
    "\n",
    "            # Apply an action to the environment, get the next state, the reward\n",
    "            # and if the games end\n",
    "            prev_state = state\n",
    "            state, reward, game_over = env.act(action)\n",
    "\n",
    "            # Update the counters\n",
    "            if reward > 0:\n",
    "                win = win + reward\n",
    "            if reward < 0:\n",
    "                lose = lose -reward\n",
    "\n",
    "            # Apply the reinforcement strategy\n",
    "            loss = agent.reinforce(prev_state, state,  action, reward, game_over)\n",
    "\n",
    "        # Save as a mp4\n",
    "        if e % 10 == 0:\n",
    "            env.draw(prefix+str(e))\n",
    "\n",
    "        # Update stats\n",
    "        score += win-lose\n",
    "\n",
    "        print(\"Epoch {:03d}/{:03d} | Loss {:.4f} | Win/lose count {}/{} ({})\"\n",
    "              .format(e, epoch, loss, win, lose, win-lose))\n",
    "        agent.save(name_weights=prefix+'model.h5',name_model=prefix+'model.json')"
   ]
  },
  {
   "cell_type": "markdown",
   "metadata": {},
   "source": [
    "***\n",
    "__Question 7__ Implement the DQN training algorithm using a cascade of fully connected layers. You can use different learning rate, batch size or memory size parameters. In particular, the loss might oscillate while the player will start to win the games. You have to find a good criterium."
   ]
  },
  {
   "cell_type": "code",
   "execution_count": 10,
   "metadata": {},
   "outputs": [],
   "source": [
    "class DQN(Agent):\n",
    "    def __init__(self, grid_size,  epsilon = 0.1, memory_size=100, batch_size = 16, n_state=2):\n",
    "        super(DQN, self).__init__(epsilon = epsilon)\n",
    "\n",
    "        # Discount for Q learning (gamma)\n",
    "        self.discount = 0.99\n",
    "        \n",
    "        self.grid_size = grid_size\n",
    "        \n",
    "        # number of state\n",
    "        self.n_state = n_state\n",
    "\n",
    "        # Memory\n",
    "        self.memory = Memory(memory_size)\n",
    "        \n",
    "        # Batch size when learning\n",
    "        self.batch_size = batch_size\n",
    "\n",
    "    def learned_act(self, s):\n",
    "        return self.model.predict(s.reshape(1,5,5,self.n_state)).argmax()\n",
    "\n",
    "    def reinforce(self, s_, n_s_, a_, r_, game_over_):\n",
    "        # Two steps: first memorize the states, second learn from the pool\n",
    "        self.memory.remember([s_, n_s_, a_, r_, game_over_])\n",
    "        \n",
    "        input_states = np.zeros((self.batch_size, 5,5,self.n_state))\n",
    "        target_q = np.zeros((self.batch_size, 4))\n",
    "\n",
    "        for i in range(self.batch_size):\n",
    "            s_, n_s_, a_, r_, game_over_ = self.memory.random_access()\n",
    "            input_states[i] = s_\n",
    "            target_q[i] = self.model.predict(s_.reshape(1, 5, 5, self.n_state))\n",
    "            if game_over_:\n",
    "                target_q[i, a_] = r_\n",
    "            else:\n",
    "                target_q[i, a_] = r_ + self.discount*self.model.predict(n_s_.reshape(1, 5, 5, self.n_state)).max()\n",
    "        \n",
    "        # HINT: Clip the target to avoid exploiding gradients.. -- clipping is a bit tighter\n",
    "        target_q = np.clip(target_q, -3, 3)\n",
    "\n",
    "        l = self.model.train_on_batch(input_states, target_q)\n",
    "        return l\n",
    "\n",
    "    def save(self,name_weights='model.h5',name_model='model.json'):\n",
    "        self.model.save_weights(name_weights, overwrite=True)\n",
    "        with open(name_model, \"w\") as outfile:\n",
    "            json.dump(self.model.to_json(), outfile)\n",
    "            \n",
    "    def load(self,name_weights='model.h5',name_model='model.json'):\n",
    "        with open(name_model, \"r\") as jfile:\n",
    "            model = model_from_json(json.load(jfile))\n",
    "        model.load_weights(name_weights)\n",
    "        model.compile(\"sgd\", \"mse\")\n",
    "        self.model = model\n",
    "\n",
    "            \n",
    "class DQN_FC(DQN):\n",
    "    def __init__(self, *args, lr=0.1,**kwargs):\n",
    "        super(DQN_FC, self).__init__( *args,**kwargs)\n",
    "        \n",
    "        # NN Model\n",
    "        model = Sequential()\n",
    "        model.add(Flatten(input_shape=(5, 5, self.n_state)))\n",
    "        model.add(Dense(16, input_dim=20, activation='relu'))\n",
    "        #model.add(Dense(12, activation='relu'))\n",
    "        model.add(Dense(4, activation='softmax'))\n",
    "        \n",
    "        model.compile(sgd(lr=lr, decay=1e-4, momentum=0.0), \"mse\")\n",
    "        self.model = model\n",
    "        "
   ]
  },
  {
   "cell_type": "code",
   "execution_count": 30,
   "metadata": {},
   "outputs": [
    {
     "name": "stdout",
     "output_type": "stream",
     "text": [
      "Epoch 000/020 | Loss 0.0012 | Win/lose count 2.0/6.0 (-4.0)\n",
      "Epoch 001/020 | Loss 0.0026 | Win/lose count 4.5/11.0 (-6.5)\n",
      "Epoch 002/020 | Loss 0.0004 | Win/lose count 1.5/7.0 (-5.5)\n",
      "Epoch 003/020 | Loss 0.0025 | Win/lose count 0.5/3.0 (-2.5)\n",
      "Epoch 004/020 | Loss 0.0187 | Win/lose count 6.0/3.0 (3.0)\n",
      "Epoch 005/020 | Loss 0.0156 | Win/lose count 4.5/3.0 (1.5)\n",
      "Epoch 006/020 | Loss 0.0010 | Win/lose count 1.5/4.0 (-2.5)\n",
      "Epoch 007/020 | Loss 0.0092 | Win/lose count 3.0/5.0 (-2.0)\n",
      "Epoch 008/020 | Loss 0.0111 | Win/lose count 1.5/2.0 (-0.5)\n",
      "Epoch 009/020 | Loss 0.0145 | Win/lose count 4.5/8.0 (-3.5)\n",
      "Epoch 010/020 | Loss 0.0336 | Win/lose count 4.5/7.0 (-2.5)\n",
      "Epoch 011/020 | Loss 0.0071 | Win/lose count 4.5/12.0 (-7.5)\n",
      "Epoch 012/020 | Loss 0.0013 | Win/lose count 3.5/9.0 (-5.5)\n",
      "Epoch 013/020 | Loss 0.0147 | Win/lose count 6.0/5.0 (1.0)\n",
      "Epoch 014/020 | Loss 0.0021 | Win/lose count 2.0/2.0 (0.0)\n",
      "Epoch 015/020 | Loss 0.0119 | Win/lose count 2.5/2.0 (0.5)\n",
      "Epoch 016/020 | Loss 0.0012 | Win/lose count 3.0/3.0 (0.0)\n",
      "Epoch 017/020 | Loss 0.0048 | Win/lose count 2.5/5.0 (-2.5)\n",
      "Epoch 018/020 | Loss 0.0033 | Win/lose count 8.0/6.0 (2.0)\n",
      "Epoch 019/020 | Loss 0.0039 | Win/lose count 5.0/4.0 (1.0)\n"
     ]
    },
    {
     "data": {
      "text/html": [
       "<video alt=\"test\" controls>\n",
       "                <source src=\"data:video/mp4;base64,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\" type=\"video/mp4\" />\n",
       "             </video>"
      ],
      "text/plain": [
       "<IPython.core.display.HTML object>"
      ]
     },
     "execution_count": 30,
     "metadata": {},
     "output_type": "execute_result"
    }
   ],
   "source": [
    "# parameters\n",
    "size = 13\n",
    "T=200\n",
    "temperature=0.3\n",
    "epochs_train=20 # set small when debugging\n",
    "epochs_test=20 # set small when debugging\n",
    "\n",
    "env = Environment(grid_size=size, max_time=T, temperature=0.3)\n",
    "agent = DQN_FC(size, lr=.1, epsilon = 0.1, memory_size=2000, batch_size = 32)\n",
    "train(agent, env, epochs_train, prefix='fc_train')\n",
    "HTML(display_videos('fc_train10.mp4'))"
   ]
  },
  {
   "cell_type": "markdown",
   "metadata": {},
   "source": [
    "***\n",
    "***\n",
    "__Question 8__ Implement the DQN training algorithm using a CNN (for example, 2 convolutional layers and one final fully connected layer)."
   ]
  },
  {
   "cell_type": "code",
   "execution_count": 11,
   "metadata": {},
   "outputs": [],
   "source": [
    "class DQN_CNN(DQN):\n",
    "    def __init__(self, *args,lr=0.1,**kwargs):\n",
    "        super(DQN_CNN, self).__init__(*args,**kwargs)\n",
    "        \n",
    "        model = Sequential()\n",
    "        model.add(Conv2D(32, 2, activation='relu', input_shape=(5,5,self.n_state)))\n",
    "        model.add(Conv2D(32, 2, activation='relu'))\n",
    "        model.add(Flatten())\n",
    "        model.add(Dense(4))\n",
    "        \n",
    "        model.compile(sgd(lr=lr, decay=1e-4, momentum=0.0), \"mse\")\n",
    "        self.model = model"
   ]
  },
  {
   "cell_type": "code",
   "execution_count": 32,
   "metadata": {},
   "outputs": [
    {
     "name": "stdout",
     "output_type": "stream",
     "text": [
      "Epoch 000/020 | Loss 0.0031 | Win/lose count 0.5/5.0 (-4.5)\n",
      "Epoch 001/020 | Loss 0.0210 | Win/lose count 4.0/3.0 (1.0)\n",
      "Epoch 002/020 | Loss 0.0067 | Win/lose count 4.5/1.0 (3.5)\n",
      "Epoch 003/020 | Loss 0.0094 | Win/lose count 5.0/0 (5.0)\n",
      "Epoch 004/020 | Loss 0.0037 | Win/lose count 3.0/1.0 (2.0)\n",
      "Epoch 005/020 | Loss 0.0019 | Win/lose count 6.0/4.0 (2.0)\n",
      "Epoch 006/020 | Loss 0.0013 | Win/lose count 2.5/4.0 (-1.5)\n",
      "Epoch 007/020 | Loss 0.0642 | Win/lose count 4.5/2.0 (2.5)\n",
      "Epoch 008/020 | Loss 0.0077 | Win/lose count 4.5/4.0 (0.5)\n",
      "Epoch 009/020 | Loss 0.0023 | Win/lose count 2.5/0 (2.5)\n",
      "Epoch 010/020 | Loss 0.0012 | Win/lose count 3.5/1.0 (2.5)\n",
      "Epoch 011/020 | Loss 0.0517 | Win/lose count 3.0/1.0 (2.0)\n",
      "Epoch 012/020 | Loss 0.0018 | Win/lose count 3.0/3.0 (0.0)\n",
      "Epoch 013/020 | Loss 0.0065 | Win/lose count 3.5/5.0 (-1.5)\n",
      "Epoch 014/020 | Loss 0.0031 | Win/lose count 3.0/0 (3.0)\n",
      "Epoch 015/020 | Loss 0.0041 | Win/lose count 5.0/1.0 (4.0)\n",
      "Epoch 016/020 | Loss 0.0021 | Win/lose count 0.5/3.0 (-2.5)\n",
      "Epoch 017/020 | Loss 0.0429 | Win/lose count 5.0/4.0 (1.0)\n",
      "Epoch 018/020 | Loss 0.0506 | Win/lose count 1.5/0 (1.5)\n",
      "Epoch 019/020 | Loss 0.0052 | Win/lose count 4.5/1.0 (3.5)\n"
     ]
    },
    {
     "data": {
      "text/html": [
       "<video alt=\"test\" controls>\n",
       "                <source src=\"data:video/mp4;base64,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\" type=\"video/mp4\" />\n",
       "             </video>"
      ],
      "text/plain": [
       "<IPython.core.display.HTML object>"
      ]
     },
     "execution_count": 32,
     "metadata": {},
     "output_type": "execute_result"
    }
   ],
   "source": [
    "env = Environment(grid_size=size, max_time=T, temperature=0.3)\n",
    "agent = DQN_CNN(size, lr=.1, epsilon = 0.1, memory_size=2000, batch_size = 32)\n",
    "train(agent,env,epochs_train,prefix='cnn_train')\n",
    "HTML(display_videos('cnn_train10.mp4'))"
   ]
  },
  {
   "cell_type": "markdown",
   "metadata": {},
   "source": [
    "***\n",
    "***\n",
    "__Question 9__ Test both algorithms and compare their performances. Which issue(s) do you observe? Observe also different behaviors by changing the temperature."
   ]
  },
  {
   "cell_type": "code",
   "execution_count": 47,
   "metadata": {},
   "outputs": [
    {
     "name": "stdout",
     "output_type": "stream",
     "text": [
      "Test of the CNN\n",
      "Win/lose count 1.5/1.0. Average score (0.5)\n",
      "Win/lose count 1.0/0. Average score (0.75)\n",
      "Win/lose count 0.5/1.0. Average score (0.3333333333333333)\n",
      "Win/lose count 1.5/0. Average score (0.625)\n",
      "Win/lose count 0.5/2.0. Average score (0.2)\n",
      "Win/lose count 1.5/1.0. Average score (0.25)\n",
      "Win/lose count 0.5/1.0. Average score (0.14285714285714285)\n",
      "Win/lose count 0.5/0. Average score (0.1875)\n",
      "Win/lose count 2.5/1.0. Average score (0.3333333333333333)\n",
      "Win/lose count 3.0/4.0. Average score (0.2)\n",
      "Win/lose count 0.5/1.0. Average score (0.13636363636363635)\n",
      "Win/lose count 0/0. Average score (0.125)\n",
      "Win/lose count 0.5/0. Average score (0.15384615384615385)\n",
      "Win/lose count 0/0. Average score (0.14285714285714285)\n",
      "Win/lose count 0.5/0. Average score (0.16666666666666666)\n",
      "Win/lose count 1.5/4.0. Average score (0.0)\n",
      "Win/lose count 2.0/3.0. Average score (-0.058823529411764705)\n",
      "Win/lose count 0.5/0. Average score (-0.027777777777777776)\n",
      "Win/lose count 2.0/1.0. Average score (0.02631578947368421)\n",
      "Win/lose count 0/0. Average score (0.025)\n",
      "Final score: 0.025\n",
      "Test of the FC\n",
      "Win/lose count 2.5/1.0. Average score (1.5)\n",
      "Win/lose count 0/1.0. Average score (0.25)\n",
      "Win/lose count 0.5/3.0. Average score (-0.6666666666666666)\n",
      "Win/lose count 0.5/1.0. Average score (-0.625)\n",
      "Win/lose count 0.5/1.0. Average score (-0.6)\n",
      "Win/lose count 0/1.0. Average score (-0.6666666666666666)\n",
      "Win/lose count 0.5/1.0. Average score (-0.6428571428571429)\n",
      "Win/lose count 1.0/1.0. Average score (-0.5625)\n",
      "Win/lose count 0/0. Average score (-0.5)\n",
      "Win/lose count 0/0. Average score (-0.45)\n",
      "Win/lose count 0.5/0. Average score (-0.36363636363636365)\n",
      "Win/lose count 1.0/0. Average score (-0.25)\n",
      "Win/lose count 0/0. Average score (-0.23076923076923078)\n",
      "Win/lose count 1.0/1.0. Average score (-0.21428571428571427)\n",
      "Win/lose count 0/0. Average score (-0.2)\n",
      "Win/lose count 0/0. Average score (-0.1875)\n",
      "Win/lose count 0.5/0. Average score (-0.14705882352941177)\n",
      "Win/lose count 1.5/0. Average score (-0.05555555555555555)\n",
      "Win/lose count 0/0. Average score (-0.05263157894736842)\n",
      "Win/lose count 0/0. Average score (-0.05)\n",
      "Final score: -0.05\n"
     ]
    }
   ],
   "source": [
    "env = Environment(grid_size=size, max_time=T,temperature=0.3)\n",
    "agent_cnn = DQN_CNN(size, lr=.1, epsilon = 0.1, memory_size=2000, batch_size = 32)\n",
    "agent_cnn.load(name_weights='cnn_trainmodel.h5',name_model='cnn_trainmodel.json')\n",
    "\n",
    "agent_fc = DQN_FC(size, lr=.1, epsilon = 0.1, memory_size=2000, batch_size = 32)\n",
    "agent_cnn.load(name_weights='fc_trainmodel.h5',name_model='fc_trainmodel.json')\n",
    "print('Test of the CNN')\n",
    "test(agent_cnn,env,epochs_test,prefix='cnn_test')\n",
    "print('Test of the FC')\n",
    "test(agent_fc,env,epochs_test,prefix='fc_test')"
   ]
  },
  {
   "cell_type": "code",
   "execution_count": 48,
   "metadata": {},
   "outputs": [
    {
     "data": {
      "text/html": [
       "<video alt=\"test\" controls>\n",
       "                <source src=\"data:video/mp4;base64,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\" type=\"video/mp4\" />\n",
       "             </video>"
      ],
      "text/plain": [
       "<IPython.core.display.HTML object>"
      ]
     },
     "execution_count": 48,
     "metadata": {},
     "output_type": "execute_result"
    }
   ],
   "source": [
    "HTML(display_videos('cnn_test10.mp4'))"
   ]
  },
  {
   "cell_type": "code",
   "execution_count": 49,
   "metadata": {},
   "outputs": [
    {
     "data": {
      "text/html": [
       "<video alt=\"test\" controls>\n",
       "                <source src=\"data:video/mp4;base64,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\" type=\"video/mp4\" />\n",
       "             </video>"
      ],
      "text/plain": [
       "<IPython.core.display.HTML object>"
      ]
     },
     "execution_count": 49,
     "metadata": {},
     "output_type": "execute_result"
    }
   ],
   "source": [
    "HTML(display_videos('fc_test10.mp4'))"
   ]
  },
  {
   "cell_type": "markdown",
   "metadata": {},
   "source": [
    "(a) When studying the performance of the algorithms, we can see that both convolutional and fully connected models perform poorly. In fact, it appears that the agent tends to get stuck in a portion of the grid.\n",
    "This can be due to a lack of exploration, because epsilon is fixed, but also because there is no penalty for staying at the same place. Sometimes, it is thus better to stay in the same zone of the map than risking negative rewards by moving.\n",
    "\n",
    "Hewever, generally, the convolutional model is more efficient than the fully connected model.\n",
    "\n",
    "\n",
    "(b) When studying the influence of the temperature, it appears that the scores increase with the temperature. In fact, the higher the temperature is, the most positive rewards there are on the grid. Thus, at the beginning, the agent can find a lot of positive rewards around him. However, the same problem remain for every temperature, and the agent is not exploring the map deeply. "
   ]
  },
  {
   "cell_type": "markdown",
   "metadata": {},
   "source": [
    "***\n",
    "\n",
    "The algorithm tends to not explore the map which can be an issue. We propose two ideas in order to encourage exploration:\n",
    "1. Incorporating a decreasing $\\epsilon$-greedy exploration. You can use the method ```set_epsilon```\n",
    "2. Append via the environment a new state that describes if a cell has been visited or not\n",
    "\n",
    "***\n",
    "__Question 10__ Design a new ```train_explore``` function and environment class ```EnvironmentExploring``` to tackle the issue of exploration.\n",
    "\n"
   ]
  },
  {
   "cell_type": "code",
   "execution_count": 12,
   "metadata": {},
   "outputs": [],
   "source": [
    "def train_explore(agent,env,epoch,prefix=''):\n",
    "    # Number of won games\n",
    "    score = 0\n",
    "    loss = 0\n",
    "\n",
    "    for e in range(epoch):\n",
    "        # At each epoch, we restart to a fresh game and get the initial state\n",
    "        state = env.reset()\n",
    "        # This assumes that the games will terminate\n",
    "        game_over = False\n",
    "\n",
    "        win = 0\n",
    "        lose = 0\n",
    "        \n",
    "        # Decreasing epsilon over iterations\n",
    "        agent.set_epsilon(agent.epsilon*0.9)\n",
    "\n",
    "        while not game_over:            \n",
    "            # The agent performs an action\n",
    "            action = agent.act(state)\n",
    "\n",
    "            # Apply an action to the environment, get the next state, the reward\n",
    "            # and if the games end\n",
    "            prev_state = state\n",
    "            state, reward, game_over = env.act(action, train = True)\n",
    "\n",
    "            # Update the counters\n",
    "            if reward > 0:\n",
    "                win = win + reward\n",
    "            if reward < 0:\n",
    "                lose = lose -reward\n",
    "\n",
    "            # Apply the reinforcement strategy\n",
    "            loss = agent.reinforce(prev_state, state,  action, reward, game_over)\n",
    "\n",
    "        # Save as a mp4\n",
    "        if e % 10 == 0:\n",
    "            env.draw(prefix+str(e))\n",
    "\n",
    "        # Update stats\n",
    "        score += win-lose\n",
    "\n",
    "        print(\"Epoch {:03d}/{:03d} | Loss {:.4f} | Win/lose count {}/{} ({})\"\n",
    "              .format(e, epoch, loss, win, lose, win-lose))\n",
    "        agent.save(name_weights=prefix+'model.h5',name_model=prefix+'model.json')\n",
    "        \n",
    "        \n",
    "class EnvironmentExploring(object):\n",
    "    def __init__(self, grid_size=10, max_time=500, temperature=0.1):\n",
    "        grid_size = grid_size+4\n",
    "        self.grid_size = grid_size\n",
    "        self.max_time = max_time\n",
    "        self.temperature = temperature\n",
    "\n",
    "        #board on which one plays\n",
    "        self.board = np.zeros((grid_size,grid_size))\n",
    "        self.position = np.zeros((grid_size,grid_size))\n",
    "        #self.malus_position = np.zeros((grid_size,grid_size))\n",
    "        # coordinate of the cat\n",
    "        self.x = 0\n",
    "        self.y = 1\n",
    "\n",
    "        # self time\n",
    "        self.t = 0\n",
    "\n",
    "        self.scale=16\n",
    "\n",
    "        self.to_draw = np.zeros((max_time+2, grid_size*self.scale, grid_size*self.scale, 3))\n",
    "\n",
    "    \n",
    "    def draw(self,e):\n",
    "        skvideo.io.vwrite(str(e) + '.mp4', self.to_draw)\n",
    "\n",
    "    def get_frame(self,t):\n",
    "        b = np.zeros((self.grid_size,self.grid_size,3))+128\n",
    "        b[self.board>0,0] = 256\n",
    "        b[self.board < 0, 2] = 256\n",
    "        b[self.x,self.y,:]=256\n",
    "        b[-2:,:,:]=0\n",
    "        b[:,-2:,:]=0\n",
    "        b[:2,:,:]=0\n",
    "        b[:,:2,:]=0\n",
    "        \n",
    "        b =  cv2.resize(b, None, fx=self.scale, fy=self.scale, interpolation=cv2.INTER_NEAREST)\n",
    "\n",
    "        self.to_draw[t,:,:,:]=b\n",
    "\n",
    "    def act(self, action, train = False):\n",
    "        \"\"\"This function returns the new state, reward and decides if the\n",
    "        game ends.\"\"\"\n",
    "\n",
    "        self.get_frame(int(self.t))\n",
    "\n",
    "        self.position = np.zeros((self.grid_size, self.grid_size))\n",
    "\n",
    "        self.position[0:2,:]= -1\n",
    "        self.position[:,0:2] = -1\n",
    "        self.position[-2:, :] = -1\n",
    "        self.position[:, -2:] = -1 # THERE WAS A MISTAKE HERE\n",
    "\n",
    "        self.position[self.x, self.y] = 1\n",
    "        if action == 0:\n",
    "            if self.x == self.grid_size-3:\n",
    "                self.x = self.x-1\n",
    "            else:\n",
    "                self.x = self.x + 1\n",
    "        elif action == 1:\n",
    "            if self.x == 2:\n",
    "                self.x = self.x+1\n",
    "            else:\n",
    "                self.x = self.x-1\n",
    "        elif action == 2:\n",
    "            if self.y == self.grid_size - 3:\n",
    "                self.y = self.y - 1\n",
    "            else:\n",
    "                self.y = self.y + 1\n",
    "        elif action == 3:\n",
    "            if self.y == 2:\n",
    "                self.y = self.y + 1\n",
    "            else:\n",
    "                self.y = self.y - 1\n",
    "        else:\n",
    "            RuntimeError('Error: action not recognized')\n",
    "\n",
    "        self.t = self.t + 1\n",
    "        \n",
    "        reward = 0\n",
    "        \n",
    "        if train:\n",
    "            reward = - self.malus_position[self.x, self.y]\n",
    "        self.malus_position[self.x, self.y] = 0.1\n",
    "\n",
    "        reward = reward + self.board[self.x, self.y]\n",
    "    \n",
    "        self.board[self.x, self.y] = 0\n",
    "        game_over = self.t > self.max_time\n",
    "        \n",
    "        state = np.concatenate((self.malus_position.reshape(self.grid_size, self.grid_size,1),\n",
    "                                self.board.reshape(self.grid_size, self.grid_size,1),\n",
    "                        self.position.reshape(self.grid_size, self.grid_size,1)),axis=2)\n",
    "        \n",
    "        state = state[self.x-2:self.x+3,self.y-2:self.y+3,:]\n",
    "\n",
    "        return state, reward, game_over\n",
    "\n",
    "    def reset(self):\n",
    "        \"\"\"This function resets the game and returns the initial state\"\"\"\n",
    "\n",
    "        self.x = np.random.randint(3, self.grid_size-3, size=1)[0]\n",
    "        self.y = np.random.randint(3, self.grid_size-3, size=1)[0]\n",
    "\n",
    "\n",
    "        bonus = 0.5*np.random.binomial(1,self.temperature,size=self.grid_size**2)\n",
    "        bonus = bonus.reshape(self.grid_size,self.grid_size)\n",
    "\n",
    "        malus = -1.0*np.random.binomial(1,self.temperature,size=self.grid_size**2)\n",
    "        malus = malus.reshape(self.grid_size, self.grid_size)\n",
    "\n",
    "        self.to_draw = np.zeros((self.max_time+2, self.grid_size*self.scale, self.grid_size*self.scale, 3))\n",
    "\n",
    "\n",
    "        malus[bonus>0]=0\n",
    "\n",
    "        self.board = bonus + malus\n",
    "\n",
    "        self.position = np.zeros((self.grid_size, self.grid_size))\n",
    "        self.position[0:2,:]= -1\n",
    "        self.position[:,0:2] = -1\n",
    "        self.position[-2:, :] = -1\n",
    "        self.position[:, -2:] = -1 # THERE WAS A MISTAKE HERE\n",
    "        self.board[self.x,self.y] = 0\n",
    "        self.t = 0\n",
    "\n",
    "        self.malus_position = np.zeros((self.grid_size, self.grid_size))\n",
    "        state = np.concatenate((self.malus_position.reshape(self.grid_size, self.grid_size,1),\n",
    "                                self.board.reshape(self.grid_size, self.grid_size,1),\n",
    "                        self.position.reshape(self.grid_size, self.grid_size,1)),axis=2)\n",
    "       \n",
    "        state = state[self.x - 2:self.x + 3, self.y - 2:self.y + 3, :]\n",
    "        return state\n",
    "    \n",
    "\n"
   ]
  },
  {
   "cell_type": "code",
   "execution_count": 16,
   "metadata": {},
   "outputs": [
    {
     "name": "stdout",
     "output_type": "stream",
     "text": [
      "Epoch 000/020 | Loss 0.0157 | Win/lose count 10.0/26.900000000000038 (-16.900000000000038)\n",
      "Epoch 001/020 | Loss 0.0139 | Win/lose count 12.0/19.80000000000002 (-7.8000000000000185)\n",
      "Epoch 002/020 | Loss 0.0060 | Win/lose count 10.0/20.80000000000004 (-10.80000000000004)\n",
      "Epoch 003/020 | Loss 0.0143 | Win/lose count 6.5/23.800000000000075 (-17.300000000000075)\n",
      "Epoch 004/020 | Loss 0.0065 | Win/lose count 10.5/17.299999999999976 (-6.799999999999976)\n",
      "Epoch 005/020 | Loss 0.0077 | Win/lose count 19.5/16.29999999999997 (3.2000000000000313)\n",
      "Epoch 006/020 | Loss 0.0222 | Win/lose count 6.5/20.300000000000022 (-13.800000000000022)\n",
      "Epoch 007/020 | Loss 0.0082 | Win/lose count 25.0/16.299999999999976 (8.700000000000024)\n",
      "Epoch 008/020 | Loss 0.0356 | Win/lose count 15.5/17.499999999999986 (-1.9999999999999858)\n",
      "Epoch 009/020 | Loss 0.0071 | Win/lose count 6.0/19.20000000000001 (-13.20000000000001)\n",
      "Epoch 010/020 | Loss 0.0078 | Win/lose count 30.0/10.399999999999979 (19.600000000000023)\n",
      "Epoch 011/020 | Loss 0.0274 | Win/lose count 16.0/16.99999999999998 (-0.9999999999999787)\n",
      "Epoch 012/020 | Loss 0.0189 | Win/lose count 19.0/15.399999999999972 (3.600000000000028)\n",
      "Epoch 013/020 | Loss 0.0130 | Win/lose count 25.0/12.299999999999976 (12.700000000000024)\n",
      "Epoch 014/020 | Loss 0.0250 | Win/lose count 23.0/11.799999999999978 (11.200000000000022)\n",
      "Epoch 015/020 | Loss 0.0083 | Win/lose count 23.0/12.499999999999979 (10.500000000000021)\n",
      "Epoch 016/020 | Loss 0.0058 | Win/lose count 27.5/10.699999999999978 (16.800000000000022)\n",
      "Epoch 017/020 | Loss 0.0162 | Win/lose count 20.5/11.19999999999998 (9.30000000000002)\n",
      "Epoch 018/020 | Loss 0.0079 | Win/lose count 11.5/19.90000000000003 (-8.40000000000003)\n",
      "Epoch 019/020 | Loss 0.0126 | Win/lose count 18.0/13.69999999999997 (4.300000000000029)\n"
     ]
    },
    {
     "data": {
      "text/html": [
       "<video alt=\"test\" controls>\n",
       "                <source src=\"data:video/mp4;base64,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\" type=\"video/mp4\" />\n",
       "             </video>"
      ],
      "text/plain": [
       "<IPython.core.display.HTML object>"
      ]
     },
     "execution_count": 16,
     "metadata": {},
     "output_type": "execute_result"
    }
   ],
   "source": [
    "# Parameters\n",
    "size = 13\n",
    "T=200\n",
    "temperature=0.3\n",
    "epochs_train=20 # set small when debugging\n",
    "epochs_test=20 # set small when debugging\n",
    "\n",
    "# Training\n",
    "env = EnvironmentExploring(grid_size=size, max_time=T, temperature=0.3)\n",
    "agent = DQN_CNN(size, lr=.1, epsilon = 0.3, memory_size=2000, batch_size = 32,n_state=3)\n",
    "train_explore(agent, env, epochs_train, prefix='cnn_train_explore')\n",
    "HTML(display_videos('cnn_train_explore10.mp4'))"
   ]
  },
  {
   "cell_type": "code",
   "execution_count": 17,
   "metadata": {
    "scrolled": false
   },
   "outputs": [
    {
     "name": "stdout",
     "output_type": "stream",
     "text": [
      "Win/lose count 13.0/0. Average score (13.0)\n",
      "Win/lose count 17.0/0. Average score (15.0)\n",
      "Win/lose count 11.5/1.0. Average score (13.5)\n",
      "Win/lose count 4.5/0. Average score (11.25)\n",
      "Win/lose count 10.5/0. Average score (11.1)\n",
      "Win/lose count 9.0/4.0. Average score (10.083333333333334)\n",
      "Win/lose count 10.5/1.0. Average score (10.0)\n",
      "Win/lose count 2.0/0. Average score (9.0)\n",
      "Win/lose count 28.5/0. Average score (11.166666666666666)\n",
      "Win/lose count 14.5/0. Average score (11.5)\n",
      "Win/lose count 15.5/1.0. Average score (11.772727272727273)\n",
      "Win/lose count 11.5/0. Average score (11.75)\n",
      "Win/lose count 19.5/2.0. Average score (12.192307692307692)\n",
      "Win/lose count 19.0/1.0. Average score (12.607142857142858)\n",
      "Win/lose count 23.0/0. Average score (13.3)\n",
      "Win/lose count 11.0/0. Average score (13.15625)\n",
      "Win/lose count 4.0/0. Average score (12.617647058823529)\n",
      "Win/lose count 19.5/0. Average score (13.0)\n",
      "Win/lose count 18.0/2.0. Average score (13.157894736842104)\n",
      "Win/lose count 11.5/0. Average score (13.075)\n",
      "Final score: 13.075\n"
     ]
    },
    {
     "data": {
      "text/html": [
       "<video alt=\"test\" controls>\n",
       "                <source src=\"data:video/mp4;base64,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\" type=\"video/mp4\" />\n",
       "             </video>"
      ],
      "text/plain": [
       "<IPython.core.display.HTML object>"
      ]
     },
     "execution_count": 17,
     "metadata": {},
     "output_type": "execute_result"
    }
   ],
   "source": [
    "# Evaluation\n",
    "test(agent,env,epochs_test,prefix='cnn_test_explore')\n",
    "HTML(display_videos('cnn_test_explore10.mp4'))"
   ]
  },
  {
   "cell_type": "markdown",
   "metadata": {},
   "source": [
    "Better results are obtained!"
   ]
  },
  {
   "cell_type": "markdown",
   "metadata": {},
   "source": [
    "***\n",
    "***\n",
    "__BONUS question__ Use the expert DQN from the previous question to generate some winning games. Train a model that mimicks its behavior. Compare the performances."
   ]
  },
  {
   "cell_type": "markdown",
   "metadata": {},
   "source": []
  },
  {
   "cell_type": "markdown",
   "metadata": {},
   "source": [
    "***"
   ]
  }
 ],
 "metadata": {
  "kernelspec": {
   "display_name": "Python 3",
   "language": "python",
   "name": "python3"
  },
  "language_info": {
   "codemirror_mode": {
    "name": "ipython",
    "version": 3
   },
   "file_extension": ".py",
   "mimetype": "text/x-python",
   "name": "python",
   "nbconvert_exporter": "python",
   "pygments_lexer": "ipython3",
   "version": "3.7.4"
  }
 },
 "nbformat": 4,
 "nbformat_minor": 2
}
