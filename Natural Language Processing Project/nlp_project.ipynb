{
 "cells": [
  {
   "cell_type": "markdown",
   "metadata": {},
   "source": [
    "# Deep Learning for NLP - Project"
   ]
  },
  {
   "cell_type": "markdown",
   "metadata": {},
   "source": [
    "RULES:\n",
    "\n",
    "* Do not create any additional cell\n",
    "\n",
    "* Fill in the blanks\n",
    "\n",
    "* All cells should be runnable (modulo trivial compatibility bugs that we'd fix)\n",
    "\n",
    "* 4 / 20 points will be allocated to the clarity of your code\n",
    "\n",
    "* Efficient code will have a bonus\n",
    "\n",
    "DELIVERABLE:\n",
    "\n",
    "* the pdf with your answers\n",
    "* this notebook\n",
    "* the predictions of the SST test set\n",
    "\n",
    "DO NOT INCLUDE THE DATASETS IN THE DELIVERABLE.."
   ]
  },
  {
   "cell_type": "code",
   "execution_count": 1,
   "metadata": {
    "jupyter": {
     "outputs_hidden": false
    }
   },
   "outputs": [],
   "source": [
    "# Python 3.6 or above is required\n",
    "from collections import defaultdict\n",
    "import gzip\n",
    "import numpy as np\n",
    "from pathlib import Path\n",
    "from urllib.request import urlretrieve\n",
    "import ssl"
   ]
  },
  {
   "cell_type": "code",
   "execution_count": 2,
   "metadata": {},
   "outputs": [],
   "source": [
    "PATH_TO_DATA = Path('data/')\n",
    "# Download word vectors, might take a few minutes and about ~3GB of storage space\n",
    "en_embeddings_path = PATH_TO_DATA / 'cc.en.300.vec.gz'\n",
    "ssl._create_default_https_context = ssl._create_unverified_context\n",
    "if not en_embeddings_path.exists():\n",
    "    urlretrieve('https://dl.fbaipublicfiles.com/fasttext/vectors-crawl/cc.en.300.vec.gz', en_embeddings_path)\n",
    "fr_embeddings_path = PATH_TO_DATA / 'cc.fr.300.vec.gz'\n",
    "if not fr_embeddings_path.exists():\n",
    "    urlretrieve('https://dl.fbaipublicfiles.com/fasttext/vectors-crawl/cc.fr.300.vec.gz', fr_embeddings_path)"
   ]
  },
  {
   "cell_type": "markdown",
   "metadata": {},
   "source": [
    "# 1) Monolingual (English) word embeddings "
   ]
  },
  {
   "cell_type": "code",
   "execution_count": 3,
   "metadata": {},
   "outputs": [],
   "source": [
    "class Word2Vec():\n",
    "\n",
    "    def __init__(self, filepath, vocab_size=50000):\n",
    "        self.words, self.embeddings = self.load_wordvec(filepath, vocab_size)\n",
    "        # Mappings for O(1) retrieval:\n",
    "        self.word2id = {word: idx for idx, word in enumerate(self.words)}\n",
    "        self.id2word = {idx: word for idx, word in enumerate(self.words)}\n",
    "    \n",
    "    \n",
    "    def load_wordvec(self, filepath, vocab_size):\n",
    "        assert str(filepath).endswith('.gz')\n",
    "        words = []\n",
    "        embeddings = []\n",
    "        with gzip.open(filepath, 'rt') as f:  # Read compressed file directly\n",
    "            next(f)  # Skip header\n",
    "            for i, line in enumerate(f):\n",
    "                word, vec = line.split(' ', 1)\n",
    "                words.append(word)\n",
    "                embeddings.append(np.fromstring(vec, sep=' '))\n",
    "                if i == (vocab_size - 1):\n",
    "                    break\n",
    "        print('Loaded %s pretrained word vectors' % (len(words)))\n",
    "        return words, np.vstack(embeddings)\n",
    "    \n",
    "    def encode(self, word):\n",
    "        # Returns the 1D embedding of a given word\n",
    "        if word in self.words:\n",
    "            id = self.word2id[word]\n",
    "            emb = self.embeddings[id,:]\n",
    "        else:\n",
    "            emb = np.zeros(300)\n",
    "        return emb\n",
    "    \n",
    "    def score(self, word1, word2):\n",
    "        # Returns the cosine similarity: use np.dot & np.linalg.norm\n",
    "        embedding1 = self.encode(word1)\n",
    "        embedding2 = self.encode(word2)\n",
    "        return np.dot(embedding1, embedding2)/(np.linalg.norm(embedding1)*np.linalg.norm(embedding2))\n",
    "    \n",
    "    def most_similar(self, word, k=5):\n",
    "        # Returns the k most similar words: self.score & np.argsort \n",
    "        scores = []\n",
    "        for word2 in self.words:\n",
    "            scores.append(self.score(word, word2))\n",
    "        ids = np.argsort(scores)\n",
    "        len = ids.shape[0]\n",
    "        similars = []\n",
    "        for i in range(1,k+1):\n",
    "            idx = ids[len-i]\n",
    "            similars.append(self.id2word[idx])\n",
    "        return(similars)"
   ]
  },
  {
   "cell_type": "code",
   "execution_count": 4,
   "metadata": {
    "jupyter": {
     "outputs_hidden": false
    },
    "scrolled": true
   },
   "outputs": [
    {
     "name": "stdout",
     "output_type": "stream",
     "text": [
      "Loaded 50000 pretrained word vectors\n",
      "cat tree 0.26449754661654756\n",
      "cat dog 0.7078641298542564\n",
      "cat pet 0.6753313359976382\n",
      "Paris France 0.6892958925806543\n",
      "Paris Germany 0.4051242286737549\n",
      "Paris baguette 0.29399958277802224\n",
      "Paris donut -0.006588507552348003\n",
      "['cat', 'cats', 'kitty', 'kitten', 'feline']\n",
      "['dog', 'dogs', 'puppy', 'pup', 'canine']\n",
      "['dogs', 'dog', 'cats', 'puppies', 'Dogs']\n",
      "['Paris', 'France', 'Parisian', 'Marseille', 'Brussels']\n",
      "['Germany', 'Austria', 'Europe', 'Berlin', 'Hamburg']\n"
     ]
    }
   ],
   "source": [
    "word2vec = Word2Vec(en_embeddings_path, vocab_size=50000)\n",
    "\n",
    "# You will be evaluated on the output of the following:\n",
    "for word1, word2 in zip(('cat', 'cat', 'cat', 'Paris', 'Paris', 'Paris', 'Paris'), ('tree', 'dog', 'pet', 'France', 'Germany', 'baguette', 'donut')):\n",
    "    print(word1, word2, word2vec.score(word1, word2))\n",
    "for word in ['cat', 'dog', 'dogs', 'Paris', 'Germany']:\n",
    "    print(word2vec.most_similar(word))"
   ]
  },
  {
   "cell_type": "code",
   "execution_count": 5,
   "metadata": {
    "jupyter": {
     "outputs_hidden": false
    }
   },
   "outputs": [],
   "source": [
    "class BagOfWords():\n",
    "    \n",
    "    def __init__(self, word2vec):\n",
    "        self.word2vec = word2vec\n",
    "    \n",
    "    def build_idf(self, sentences):\n",
    "        # build the idf dictionary: associate each word to its idf value\n",
    "        # -> idf = {word: idf_value, ...}\n",
    "        nbsentences = len(sentences)\n",
    "        idf = {}\n",
    "        for sentence in sentences:\n",
    "                wordsentence = sentence.split()\n",
    "                for word in wordsentence:\n",
    "                    if word in idf.keys():\n",
    "                        idf[word] += 1\n",
    "                    else:\n",
    "                        idf[word] = 1\n",
    "        for word in idf.keys():\n",
    "            idf_value = np.log(nbsentences/idf[word])\n",
    "            idf[word] = idf_value\n",
    "        return idf\n",
    "    \n",
    "    def encode(self, sentence, idf=None):\n",
    "        # Takes a sentence as input, returns the sentence embedding\n",
    "        wordsentence = sentence.split( )\n",
    "        wordsembeddings = []\n",
    "        for word in wordsentence:\n",
    "            wordsembeddings.append(self.word2vec.encode(word))\n",
    "        if idf is None:\n",
    "            # mean of word vectors\n",
    "            return np.average(wordsembeddings, axis=0)\n",
    "        else:\n",
    "            # idf-weighted mean of word vectors\n",
    "            weights = []\n",
    "            for word in wordsentence:\n",
    "                weights.append(idf[word])\n",
    "            return np.average(wordsembeddings, weights = weights, axis=0) \n",
    "                \n",
    "    def score(self, sentence1, sentence2, idf=None):\n",
    "        # cosine similarity: use np.dot & np.linalg.norm \n",
    "        embedding1 = self.encode(sentence1, idf)\n",
    "        embedding2 = self.encode(sentence2, idf)\n",
    "        return np.dot(embedding1, embedding2)/(np.linalg.norm(embedding1)*np.linalg.norm(embedding2))\n",
    "    \n",
    "    def most_similar(self, sentence, sentences, idf=None, k=5):\n",
    "        # Returns most similar sentences\n",
    "        query = self.encode(sentence, idf)\n",
    "        keys = np.vstack([self.encode(sentence, idf) for sentence in sentences])\n",
    "        scores = [np.dot(query, key)/(np.linalg.norm(query)*np.linalg.norm(key)) for key in keys]\n",
    "        ids = np.argsort(scores)\n",
    "        len = ids.shape[0]\n",
    "        similars = []\n",
    "        for i in range(1,k+1):\n",
    "            id = ids[len-i]\n",
    "            similars.append(sentences[id])\n",
    "        return(similars)\n",
    "        "
   ]
  },
  {
   "cell_type": "code",
   "execution_count": 6,
   "metadata": {
    "jupyter": {
     "outputs_hidden": false
    },
    "scrolled": false
   },
   "outputs": [
    {
     "name": "stdout",
     "output_type": "stream",
     "text": [
      "Loaded 50000 pretrained word vectors\n",
      "\n",
      "\tAverage of word embeddings\n",
      "1 man singing and 1 man playing a saxophone in a concert . \n",
      "10 people venture out to go crosscountry skiing . \n",
      "0.7065220648251475\n",
      "1 smiling african american boy . \n",
      "1) 1 smiling african american boy . \n",
      "2) 2 woman dancing while pointing . \n",
      "3) 5 women and 1 man are smiling for the camera . \n",
      "4) a small boy following 4 geese . \n",
      "5) 2 female babies eating chips . \n",
      "\n",
      "\tidf weighted average of word embeddings\n",
      "1 man singing and 1 man playing a saxophone in a concert . \n",
      "10 people venture out to go crosscountry skiing . \n",
      "0.6230172138542661\n",
      "1 smiling african american boy . \n",
      "1) 1 smiling african american boy . \n",
      "2) 1 man singing and 1 man playing a saxophone in a concert . \n",
      "3) two women and 1 man walking across the street . \n",
      "4) 2 guys facing away from camera , 1 girl smiling at camera with blue shirt , 1 guy with a beverage with a jacket on . \n",
      "5) 5 women and 1 man are smiling for the camera . \n"
     ]
    }
   ],
   "source": [
    "word2vec = Word2Vec(en_embeddings_path, vocab_size=50000)\n",
    "sentence2vec = BagOfWords(word2vec)\n",
    "\n",
    "# Load sentences in \"PATH_TO_DATA/sentences.txt\"\n",
    "filepath = PATH_TO_DATA / 'sentences.txt'\n",
    "with open(filepath, 'r') as f:\n",
    "    sentences = [line.strip('\\n') for line in f]\n",
    "\n",
    "\n",
    "# You will be evaluated on the output of the following:\n",
    "print('\\n\\tAverage of word embeddings')\n",
    "sentence1 = sentences[7]\n",
    "sentence2 = sentences[13]\n",
    "print(sentence1)\n",
    "print(sentence2)\n",
    "print(sentence2vec.score(sentence1, sentence2))\n",
    "sentence = sentences[10]\n",
    "similar_sentences = sentence2vec.most_similar(sentence, sentences)  # BagOfWords-mean\n",
    "print(sentence)\n",
    "for i, sentence in enumerate(similar_sentences):\n",
    "    print(str(i+1) + ')', sentence)\n",
    "\n",
    "# Build idf scores for each word\n",
    "idf = sentence2vec.build_idf(sentences)\n",
    "\n",
    "print('\\n\\tidf weighted average of word embeddings')\n",
    "print(sentence1)\n",
    "print(sentence2)\n",
    "print(sentence2vec.score(sentence1, sentence2, idf))\n",
    "sentence = sentences[10] #added by me\n",
    "similar_sentences = sentence2vec.most_similar(sentence, sentences, idf)  # BagOfWords-idf\n",
    "print(sentence)\n",
    "for i, sentence in enumerate(similar_sentences):\n",
    "    print(str(i+1) + ')', sentence)"
   ]
  },
  {
   "cell_type": "markdown",
   "metadata": {},
   "source": [
    "# 2) Multilingual (English-French) word embeddings"
   ]
  },
  {
   "cell_type": "markdown",
   "metadata": {},
   "source": [
    "Let's consider a bilingual dictionary of size V_a (e.g French-English).\n",
    "\n",
    "Let's define **X** and **Y** the **French** and **English** matrices.\n",
    "\n",
    "They contain the embeddings associated to the words in the bilingual dictionary.\n",
    "\n",
    "We want to find a **mapping W** that will project the source word space (e.g French) to the target word space (e.g English).\n",
    "\n",
    "Procrustes : **W\\* = argmin || W.X - Y ||  s.t  W^T.W = Id**\n",
    "has a closed form solution:\n",
    "**W = U.V^T  where  U.Sig.V^T = SVD(Y.X^T)**\n",
    "\n",
    "In what follows, you are asked to: "
   ]
  },
  {
   "cell_type": "code",
   "execution_count": 7,
   "metadata": {},
   "outputs": [],
   "source": [
    "class MultilingualWordAligner:\n",
    "    \n",
    "    def __init__(self, fr_word2vec, en_word2vec):\n",
    "        self.fr_word2vec = fr_word2vec\n",
    "        self.en_word2vec = en_word2vec\n",
    "        self.aligned_fr_embeddings = self.get_aligned_fr_embeddings()\n",
    "        \n",
    "    def get_aligned_fr_embeddings(self):\n",
    "        # 1 - Get words that appear in both vocabs (= identical character strings)\n",
    "        #     Use it to create the matrix X (emb_dim, vocab_size) and Y (emb_dim, vocab_size) (of embeddings for these words)\n",
    "        X, Y = [], []\n",
    "        for word in self.fr_word2vec.words:\n",
    "            if word in self.en_word2vec.words:\n",
    "                X.append(self.fr_word2vec.encode(word))\n",
    "                Y.append(self.en_word2vec.encode(word))\n",
    "        X, Y = np.asarray(X).transpose(), np.asarray(Y).transpose()\n",
    "        assert X.shape[0] == 300 and Y.shape[0] == 300\n",
    "        # 2 - Solve the Procrustes using the numpy package and: np.linalg.svd() and get the optimal W\n",
    "        #     Now self.fr_word2vec.embeddings * W.transpose() is in the same space as en_word2vec.embeddings\n",
    "        a = np.matmul(Y, X.transpose())\n",
    "        u, s, vh = np.linalg.svd(a)\n",
    "        W = np.matmul(u, vh)\n",
    "        assert W.shape == (300, 300)\n",
    "        return np.matmul(fr_word2vec.embeddings, W.transpose())\n",
    "        \n",
    "    def get_closest_english_words(self, fr_word, k=3):\n",
    "        # 3 - Return the top k English nearest neighbors to the input French word\n",
    "        id = self.fr_word2vec.word2id[fr_word]\n",
    "        emb_eq_en_word = self.aligned_fr_embeddings[id,:]\n",
    "        scores = [np.dot(emb_eq_en_word, emb)/(np.linalg.norm(emb_eq_en_word)*np.linalg.norm(emb)) for emb in self.en_word2vec.embeddings]\n",
    "        ids = np.argsort(scores)\n",
    "        len = ids.shape[0]\n",
    "        similars = []\n",
    "        for i in range(1,k+1):\n",
    "            idx = ids[len-i]\n",
    "            similars.append(self.en_word2vec.id2word[idx])\n",
    "        return(similars)"
   ]
  },
  {
   "cell_type": "code",
   "execution_count": 8,
   "metadata": {
    "scrolled": false
   },
   "outputs": [
    {
     "name": "stdout",
     "output_type": "stream",
     "text": [
      "Loaded 50000 pretrained word vectors\n",
      "Loaded 50000 pretrained word vectors\n",
      "----------\n",
      "fr: \"chat\"\n",
      "en: \"cat\"\n",
      "en: \"kitten\"\n",
      "en: \"kitty\"\n",
      "----------\n",
      "fr: \"chien\"\n",
      "en: \"dog\"\n",
      "en: \"cat\"\n",
      "en: \"pet\"\n",
      "----------\n",
      "fr: \"voiture\"\n",
      "en: \"car\"\n",
      "en: \"vehicle\"\n",
      "en: \"automobile\"\n",
      "----------\n",
      "fr: \"zut\"\n",
      "en: \"oops\"\n",
      "en: \"Ah\"\n",
      "en: \"ah\"\n"
     ]
    }
   ],
   "source": [
    "fr_word2vec = Word2Vec(fr_embeddings_path, vocab_size=50000)\n",
    "en_word2vec = Word2Vec(en_embeddings_path, vocab_size=50000)\n",
    "multilingual_word_aligner = MultilingualWordAligner(fr_word2vec, en_word2vec)\n",
    "\n",
    "# You will be evaluated on the output of the following:\n",
    "fr_words = ['chat', 'chien', 'voiture', 'zut']\n",
    "k = 3\n",
    "for fr_word in fr_words:\n",
    "    print('-' * 10)\n",
    "    print(f'fr: \"{fr_word}\"')\n",
    "    en_words = multilingual_word_aligner.get_closest_english_words(fr_word, k=3)\n",
    "    for en_word in en_words:\n",
    "        print(f'en: \"{en_word}\"')"
   ]
  },
  {
   "cell_type": "markdown",
   "metadata": {},
   "source": [
    "If you want to dive deeper on this subject: https://github.com/facebookresearch/MUSE"
   ]
  },
  {
   "cell_type": "markdown",
   "metadata": {},
   "source": [
    "# 3) Sentence classification with BoV and scikit-learn"
   ]
  },
  {
   "cell_type": "code",
   "execution_count": 9,
   "metadata": {},
   "outputs": [
    {
     "name": "stdout",
     "output_type": "stream",
     "text": [
      "length of the train set: \n",
      "8544\n",
      "length of the dev set: \n",
      "1101\n",
      "length of the test set: \n",
      "2210\n"
     ]
    }
   ],
   "source": [
    "# 1 - Load train/dev/test of Stanford Sentiment TreeBank (SST)\n",
    "#     (https://nlp.stanford.edu/~socherr/EMNLP2013_RNTN.pdf)\n",
    "train_filepath = PATH_TO_DATA / 'SST/stsa.fine.train'\n",
    "dev_filepath = PATH_TO_DATA / 'SST/stsa.fine.dev'\n",
    "test_filepath = PATH_TO_DATA / 'SST/stsa.fine.test.X'\n",
    "\n",
    "with open(train_filepath, 'r') as f:\n",
    "    train = [line.strip('\\n') for line in f]\n",
    "    x_train = [x[2:] for x in train]\n",
    "    y_train = [int(x[0]) for x in train]\n",
    "    print('length of the train set: ')\n",
    "    print(len(x_train))\n",
    "\n",
    "with open(dev_filepath, 'r') as f:\n",
    "    dev = [line.strip('\\n') for line in f]\n",
    "    x_dev = [x[2:] for x in dev]\n",
    "    y_dev = [int(x[0]) for x in dev]\n",
    "    print('length of the dev set: ')\n",
    "    print(len(x_dev))\n",
    "\n",
    "with open(test_filepath, 'r') as f:\n",
    "    x_test = [line.strip('\\n') for line in f]\n",
    "    print('length of the test set: ')\n",
    "    print(len(x_test))\n"
   ]
  },
  {
   "cell_type": "code",
   "execution_count": 10,
   "metadata": {},
   "outputs": [
    {
     "name": "stdout",
     "output_type": "stream",
     "text": [
      "Loaded 50000 pretrained word vectors\n"
     ]
    }
   ],
   "source": [
    "# 2 - Encode sentences with the BoV model above\n",
    "word2vec = Word2Vec(en_embeddings_path, vocab_size=50000)\n",
    "sentence2vec = BagOfWords(word2vec)\n",
    "\n",
    "idfxtrain = sentence2vec.build_idf(x_train)\n",
    "x_train_emb = [sentence2vec.encode(sentence) for sentence in x_train]\n",
    "x_train_emb_weight = [sentence2vec.encode(sentence, idfxtrain) for sentence in x_train]\n",
    "\n",
    "idfxdev = sentence2vec.build_idf(x_dev)\n",
    "x_dev_emb = [sentence2vec.encode(sentence) for sentence in x_dev]\n",
    "x_dev_emb_weight = [sentence2vec.encode(sentence, idfxdev) for sentence in x_dev]\n",
    "\n",
    "idfxtest = sentence2vec.build_idf(x_test)\n",
    "x_test_emb = [sentence2vec.encode(sentence) for sentence in x_test]\n",
    "x_test_emb_weight = [sentence2vec.encode(sentence, idfxtest) for sentence in x_test]"
   ]
  },
  {
   "cell_type": "code",
   "execution_count": 29,
   "metadata": {},
   "outputs": [
    {
     "name": "stdout",
     "output_type": "stream",
     "text": [
      "Using the average of word vectors\n",
      "Best C : 10\n",
      "Dev score using average : 0.41689373297002724\n",
      "Training score using average : 0.46594101123595505\n",
      "\n",
      "Using the weighted-average of word vectors\n",
      "Best C : 10\n",
      "Dev score using weighted-average : 0.4141689373297003\n",
      "Training score using weighted-average : 0.4708567415730337\n"
     ]
    }
   ],
   "source": [
    "# 3 - Learn Logistic Regression on top of sentence embeddings using scikit-learn\n",
    "#     (consider tuning the L2 regularization on the dev set)\n",
    "#     In the paper, the accuracy for average of word vectors is 32.7%\n",
    "#     (VecAvg, table 1, https://nlp.stanford.edu/~socherr/EMNLP2013_RNTN.pdf)\n",
    "\n",
    "from sklearn.linear_model import LogisticRegression\n",
    "from sklearn.model_selection import GridSearchCV\n",
    "\n",
    "print(\"Using the average of word vectors\")\n",
    "clf = LogisticRegression(penalty='l2', solver='newton-cg', multi_class='multinomial')\n",
    "\n",
    "C_vals = [0.001, 0.01, 0.1, 1, 10, 100, 1000]\n",
    "\n",
    "dev_acc = []\n",
    "for C in C_vals:\n",
    "    clf_C = LogisticRegression(penalty='l2', C = C, multi_class='multinomial', solver='newton-cg')\n",
    "    clf_C.fit(x_train_emb, y_train)\n",
    "    dev_acc.append(clf_C.score(x_dev_emb, y_dev))\n",
    "C_best = C_vals[np.argmax(dev_acc)]\n",
    "print(\"Best C : {}\".format(C_best))\n",
    "\n",
    "clf = LogisticRegression(penalty='l2', solver='newton-cg', multi_class='multinomial', C = C_best)\n",
    "clf = clf.fit(x_train_emb, y_train)\n",
    "print(\"Dev score using average : {}\".format(clf.score(x_dev_emb, y_dev)))\n",
    "print(\"Training score using average : {}\".format(clf.score(x_train_emb, y_train)))\n",
    "\n",
    "\n",
    "print(\"\\nUsing the weighted-average of word vectors\")\n",
    "clfw = LogisticRegression(penalty='l2', solver='newton-cg', multi_class='multinomial')\n",
    "\n",
    "C_vals = [0.001, 0.01, 0.1, 1, 10, 100, 1000]\n",
    "\n",
    "dev_acc = []\n",
    "for C in C_vals:\n",
    "    clfw_C = LogisticRegression(penalty='l2', C = C, multi_class='multinomial', solver='newton-cg')\n",
    "    clfw_C.fit(x_train_emb_weight, y_train)\n",
    "    dev_acc.append(clfw_C.score(x_dev_emb_weight, y_dev))\n",
    "C_best = C_vals[np.argmax(dev_acc)]\n",
    "print(\"Best C : {}\".format(C_best))\n",
    "\n",
    "clfw = LogisticRegression(penalty='l2', solver='newton-cg', multi_class='multinomial', C = C_best)\n",
    "clfw = clfw.fit(x_train_emb_weight, y_train)\n",
    "print(\"Dev score using weighted-average : {}\".format(clfw.score(x_dev_emb_weight, y_dev)))\n",
    "print(\"Training score using weighted-average : {}\".format(clfw.score(x_train_emb_weight, y_train)))\n",
    "\n",
    "\n",
    "\n",
    "## Other method: tuning the L2 regularization by grid search\n",
    "\n",
    "# from sklearn.linear_model import LogisticRegression\n",
    "#from sklearn.model_selection import GridSearchCV\n",
    "\n",
    "#print(\"Using the average of word vectors\")\n",
    "#clf = LogisticRegression(penalty='l2', solver='newton-cg', multi_class='multinomial')\n",
    "\n",
    "#param_grid = {'C': [0.001, 0.01, 0.1, 1, 10, 100, 1000]}\n",
    "#grid = GridSearchCV(estimator=clf, param_grid=param_grid)\n",
    "#grid.fit(x_train_emb, y_train)\n",
    "#print(\"Best score grid : {}\".format(grid.best_score_))\n",
    "#print(\"Best C grid : {}\".format(grid.best_estimator_.C))\n",
    "\n",
    "#clf = LogisticRegression(penalty='l2', solver='newton-cg', multi_class='multinomial', C = grid.best_estimator_.C)\n",
    "#clf = clf.fit(x_train_emb, y_train)\n",
    "#print(\"Dev score using average : {}\".format(clf.score(x_dev_emb, y_dev)))\n",
    "#print(\"Training score using average : {}\".format(clf.score(x_train_emb, y_train)))\n",
    "\n",
    "\n",
    "#print(\"\\nUsing the weighted-average of word vectors\")\n",
    "#clfw = LogisticRegression(penalty='l2', solver='newton-cg', multi_class='multinomial')\n",
    "\n",
    "#grid = GridSearchCV(estimator=clfw, param_grid=param_grid)\n",
    "#grid.fit(x_train_emb_weight, y_train)\n",
    "#print(\"Best score grid : {}\".format(grid.best_score_))\n",
    "#print(\"Best C grid : {}\".format(grid.best_estimator_.C))\n",
    "\n",
    "#clfw = LogisticRegression(penalty='l2', solver='newton-cg', multi_class='multinomial', C = grid.best_estimator_.C)\n",
    "#clfw = clfw.fit(x_train_emb_weight, y_train)\n",
    "#print(\"Dev score using weighted-average : {}\".format(clfw.score(x_dev_emb_weight, y_dev)))\n",
    "#print(\"Training score using weighted-average : {}\".format(clfw.score(x_train_emb_weight, y_train)))\n",
    "\n"
   ]
  },
  {
   "cell_type": "code",
   "execution_count": 30,
   "metadata": {},
   "outputs": [],
   "source": [
    "# 4 - Produce 2210 predictions for the test set (in the same order). One line = one prediction (=0,1,2,3,4).\n",
    "#     Attach the output file \"logreg_bov_y_test_sst.txt\" to your deliverable.\n",
    "#     You will be evaluated on the results of the test set.\n",
    "\n",
    "clf = LogisticRegression(penalty='l2', solver='newton-cg', multi_class='multinomial', C = 10)\n",
    "clf = clf.fit(np.vstack((x_train_emb, x_dev_emb)), np.concatenate((y_train, y_dev)))\n",
    "pred = clf.predict(x_test_emb)\n",
    "f = open('logreg_bov_y_test_sst.txt', 'w')\n",
    "for item in pred:\n",
    "    f.write(\"%s\\n\" % item) \n",
    "f.close()\n",
    "        "
   ]
  },
  {
   "cell_type": "code",
   "execution_count": 32,
   "metadata": {},
   "outputs": [
    {
     "name": "stdout",
     "output_type": "stream",
     "text": [
      "-----Random Forest-----\n",
      "Using the average of word vectors\n",
      "Dev score using average : 0.335149863760218\n",
      "Training score using average : 0.9989466292134831\n",
      "Using the weighted-average of word vectors\n",
      "Dev score using weighted-average : 0.35876475930971846\n",
      "Training score weighted-using average : 0.9994147940074907\n",
      "\n",
      "-----SVM-----\n",
      "Using the average of word vectors\n",
      "Dev score using average : 0.3923705722070845\n",
      "Training score using average : 0.43469101123595505\n",
      "Using the weighted-average of word vectors\n",
      "Dev score using weighted-average : 0.4114441416893733\n",
      "Training score using average : 0.5286750936329588\n",
      "\n",
      "TUNING\n",
      "Using the average of word vectors\n",
      "{'C': 1000, 'gamma': 0.01}\n",
      "Dev score using average : 0.4150772025431426\n",
      "Training score using average : 0.4785814606741573\n",
      "Using the weighted-average of word vectors\n",
      "{'C': 10, 'gamma': 0.1}\n",
      "Dev score using weighted-average : 0.40236148955495005\n",
      "Training score using weighted-average : 0.4401919475655431\n"
     ]
    }
   ],
   "source": [
    "# BONUS!\n",
    "# 5 - Try to improve performance with another classifier\n",
    "#     Attach the output file \"XXX_bov_y_test_sst.txt\" to your deliverable (where XXX = the name of the classifier)\n",
    "\n",
    "print('-----Random Forest-----')\n",
    "from sklearn.ensemble import RandomForestClassifier\n",
    "\n",
    "clf2 = RandomForestClassifier(n_estimators = 100)\n",
    "print(\"Using the average of word vectors\")\n",
    "clf2 = clf2.fit(x_train_emb, y_train)\n",
    "print(\"Dev score using average : {}\".format(clf2.score(x_dev_emb, y_dev)))\n",
    "print(\"Training score using average : {}\".format(clf2.score(x_train_emb, y_train)))\n",
    "\n",
    "print(\"Using the weighted-average of word vectors\")\n",
    "clf2 = clf2.fit(x_train_emb_weight, y_train)\n",
    "print(\"Dev score using weighted-average : {}\".format(clf2.score(x_dev_emb_weight, y_dev)))\n",
    "print(\"Training score weighted-using average : {}\".format(clf2.score(x_train_emb_weight, y_train)))\n",
    "\n",
    "\n",
    "\n",
    "print('\\n-----SVM-----')\n",
    "from sklearn import svm\n",
    "\n",
    "clf3 = svm.SVC(gamma='scale')\n",
    "print(\"Using the average of word vectors\")\n",
    "clf3 = clf3.fit(x_train_emb, y_train)\n",
    "print(\"Dev score using average : {}\".format(clf3.score(x_dev_emb, y_dev)))\n",
    "print(\"Training score using average : {}\".format(clf3.score(x_train_emb, y_train)))\n",
    "\n",
    "print(\"Using the weighted-average of word vectors\")\n",
    "clf3 = clf3.fit(x_train_emb_weight, y_train)\n",
    "print(\"Dev score using weighted-average : {}\".format(clf3.score(x_dev_emb_weight, y_dev)))\n",
    "print(\"Training score using average : {}\".format(clf3.score(x_train_emb_weight, y_train)))\n",
    "\n",
    "print('\\nTUNING')\n",
    "print(\"Using the average of word vectors\")\n",
    "param_grid = {'gamma': [1e-4, 1e-3, 1e-2, 1e-1, 1],\n",
    "              'C': [0.01, 0.1, 1, 10, 100, 1000]}\n",
    "grid = GridSearchCV(svm.SVC(kernel = 'rbf'), param_grid, cv=3)\n",
    "grid.fit(x_train_emb, y_train)\n",
    "print(grid.best_params_)\n",
    "clf3 = grid.best_estimator_\n",
    "clf3 = clf3.fit(x_train_emb, y_train)\n",
    "print(\"Dev score using average : {}\".format(clf3.score(x_dev_emb, y_dev)))\n",
    "print(\"Training score using average : {}\".format(clf3.score(x_train_emb, y_train)))\n",
    "\n",
    "print(\"Using the weighted-average of word vectors\")\n",
    "param_grid = {'gamma': [1e-4, 1e-3, 1e-2, 1e-1, 1],\n",
    "                     'C': [0.01, 0.1, 1, 10, 100, 1000]}\n",
    "grid = GridSearchCV(svm.SVC(kernel = 'rbf'), param_grid, cv=3)\n",
    "grid.fit(x_train_emb_weight, y_train)\n",
    "print(grid.best_params_)\n",
    "clf3w = grid.best_estimator_\n",
    "clf3w = clf3w.fit(x_train_emb_weight, y_train)\n",
    "print(\"Dev score using weighted-average : {}\".format(clf3w.score(x_dev_emb_weight, y_dev)))\n",
    "print(\"Training score using weighted-average : {}\".format(clf3w.score(x_train_emb_weight, y_train)))"
   ]
  },
  {
   "cell_type": "code",
   "execution_count": 33,
   "metadata": {},
   "outputs": [],
   "source": [
    "clf3 = clf3.fit(np.vstack((x_train_emb, x_dev_emb)), np.concatenate((y_train, y_dev)))\n",
    "pred2 = clf3.predict(x_test_emb)\n",
    "f2 = open('svm_bov_y_test_sst.txt', 'w')\n",
    "for item in pred2:\n",
    "    f2.write(\"%s\\n\" % item) \n",
    "f2.close()"
   ]
  },
  {
   "cell_type": "markdown",
   "metadata": {},
   "source": [
    "# 4) Sentence classification with LSTMs in Keras"
   ]
  },
  {
   "cell_type": "markdown",
   "metadata": {},
   "source": [
    "## 4.1 - Preprocessing"
   ]
  },
  {
   "cell_type": "code",
   "execution_count": 34,
   "metadata": {
    "jupyter": {
     "outputs_hidden": false
    }
   },
   "outputs": [],
   "source": [
    "import tensorflow as tf"
   ]
  },
  {
   "cell_type": "code",
   "execution_count": 35,
   "metadata": {},
   "outputs": [],
   "source": [
    "# 1 - Using the same dataset, transform text to integers using tf.keras.preprocessing.text.one_hot function\n",
    "#     https://keras.io/preprocessing/text/\n",
    "\n",
    "#estimation of the vocabulary size\n",
    "n = 50000\n",
    "#Transformation\n",
    "x_train_int = [tf.keras.preprocessing.text.one_hot(x, n) for x in x_train]\n",
    "x_dev_int = [tf.keras.preprocessing.text.one_hot(x, n) for x in x_dev]\n",
    "x_test_int = [tf.keras.preprocessing.text.one_hot(x, n) for x in x_test]\n",
    "\n",
    "\n",
    "##Other method\n",
    "x_conc = x_train + x_dev + x_test\n",
    "#x_int = [tf.keras.preprocessing.text.one_hot(x, n) for x in x_conc]\n",
    "#x_train_int = x_int[0:8544]\n",
    "#x_dev_int = x_int[8544:8544+1101]\n",
    "#x_test_int = x_int[8544+1101:]\n"
   ]
  },
  {
   "cell_type": "markdown",
   "metadata": {},
   "source": [
    "**Padding input data**\n",
    "\n",
    "Models in Keras (and elsewhere) take batches of sentences of the same length as input. It is because Deep Learning framework have been designed to handle well Tensors, which are particularly suited for fast computation on the GPU.\n",
    "\n",
    "Since sentences have different sizes, we \"pad\" them. That is, we add dummy \"padding\" tokens so that they all have the same length.\n",
    "\n",
    "The input to a Keras model thus has this size : (batchsize, maxseqlen) where maxseqlen is the maximum length of a sentence in the batch."
   ]
  },
  {
   "cell_type": "code",
   "execution_count": 36,
   "metadata": {},
   "outputs": [],
   "source": [
    "# 2 - Pad your sequences using tf.keras.preprocessing.sequence.pad_sequences\n",
    "#     https://keras.io/preprocessing/sequence/\n",
    "\n",
    "x_train_int_pad = tf.keras.preprocessing.sequence.pad_sequences(x_train_int)\n",
    "x_dev_int_pad = tf.keras.preprocessing.sequence.pad_sequences(x_dev_int)\n",
    "x_test_int_pad = tf.keras.preprocessing.sequence.pad_sequences(x_test_int)\n",
    "\n",
    "## Other method\n",
    "#x_int_pad = tf.keras.preprocessing.sequence.pad_sequences(x_int)\n",
    "#x_train_int_pad = x_int_pad[0:8544]\n",
    "#x_dev_int_pad = x_int_pad[8544:8544+1101]\n",
    "#x_test_int_pad = x_int_pad[8544+1101:]\n"
   ]
  },
  {
   "cell_type": "markdown",
   "metadata": {},
   "source": [
    "## 4.2 - Design and train your model"
   ]
  },
  {
   "cell_type": "code",
   "execution_count": 81,
   "metadata": {},
   "outputs": [],
   "source": [
    "# 3 - Design your encoder + classifier using tensorflow.keras.layers\n",
    "#     In Keras, Torch and other deep learning framework, we create a \"container\" which is the Sequential() module.\n",
    "#     Then we add components to this container : the lookup-table, the LSTM, the classifier etc.\n",
    "#     All of these components are contained in the Sequential() and are trained together.\n",
    "#     Note that the embedding layer is initialized randomly and does not take advantage of pre-trained word embeddings.\n",
    "\n",
    "from tensorflow.keras.models import Sequential\n",
    "from tensorflow.keras.layers import Embedding, LSTM, Dense, Activation, Dropout, SpatialDropout1D\n",
    "from tensorflow.keras.constraints import unit_norm\n",
    "from tensorflow.keras.regularizers import l2\n",
    "\n",
    "embed_dim  = 200 #52 #32  # word embedding dimension\n",
    "nhid       = 32  # number of hidden units in the LSTM\n",
    "vocab_size = 50000  # size of the vocabulary\n",
    "n_classes  = 5\n",
    "\n",
    "model = Sequential()\n",
    "model.add(Embedding(vocab_size, embed_dim))\n",
    "#model.add(SpatialDropout1D(0.5))\n",
    "model.add(LSTM(nhid, dropout=0.5, recurrent_dropout=0.5, kernel_regularizer=l2(1e-5)))\n",
    "model.add(Dropout(0.4))\n",
    "model.add(Dense(n_classes, activation='sigmoid'))"
   ]
  },
  {
   "cell_type": "code",
   "execution_count": 82,
   "metadata": {
    "jupyter": {
     "outputs_hidden": false
    }
   },
   "outputs": [
    {
     "name": "stdout",
     "output_type": "stream",
     "text": [
      "Model: \"sequential_14\"\n",
      "_________________________________________________________________\n",
      "Layer (type)                 Output Shape              Param #   \n",
      "=================================================================\n",
      "embedding_14 (Embedding)     (None, None, 200)         10000000  \n",
      "_________________________________________________________________\n",
      "lstm_13 (LSTM)               (None, 32)                29824     \n",
      "_________________________________________________________________\n",
      "dropout_11 (Dropout)         (None, 32)                0         \n",
      "_________________________________________________________________\n",
      "dense_13 (Dense)             (None, 5)                 165       \n",
      "=================================================================\n",
      "Total params: 10,029,989\n",
      "Trainable params: 10,029,989\n",
      "Non-trainable params: 0\n",
      "_________________________________________________________________\n",
      "None\n"
     ]
    }
   ],
   "source": [
    "# 4 - Define your loss/optimizer/metrics\n",
    "\n",
    "loss_classif     =  'categorical_crossentropy' # find the right loss for multi-class classification\n",
    "optimizer        =  'adam' # find the right optimizer\n",
    "metrics_classif  =  ['accuracy']\n",
    "\n",
    "# Observe how easy (but blackboxed) this is in Keras\n",
    "model.compile(loss=loss_classif,\n",
    "              optimizer=optimizer,\n",
    "              metrics=metrics_classif)\n",
    "print(model.summary())"
   ]
  },
  {
   "cell_type": "code",
   "execution_count": 83,
   "metadata": {
    "scrolled": false
   },
   "outputs": [
    {
     "name": "stdout",
     "output_type": "stream",
     "text": [
      "Train on 8544 samples, validate on 1101 samples\n",
      "Epoch 1/5\n",
      "8544/8544 [==============================] - 36s 4ms/sample - loss: 1.5812 - accuracy: 0.2728 - val_loss: 1.5663 - val_accuracy: 0.2543\n",
      "Epoch 2/5\n",
      "8544/8544 [==============================] - 27s 3ms/sample - loss: 1.5285 - accuracy: 0.3285 - val_loss: 1.4929 - val_accuracy: 0.3460\n",
      "Epoch 3/5\n",
      "8544/8544 [==============================] - 27s 3ms/sample - loss: 1.3499 - accuracy: 0.4386 - val_loss: 1.3944 - val_accuracy: 0.3915\n",
      "Epoch 4/5\n",
      "8544/8544 [==============================] - 27s 3ms/sample - loss: 1.1357 - accuracy: 0.5266 - val_loss: 1.4317 - val_accuracy: 0.3906\n",
      "Epoch 5/5\n",
      "8544/8544 [==============================] - 28s 3ms/sample - loss: 0.9575 - accuracy: 0.6114 - val_loss: 1.5624 - val_accuracy: 0.4078\n"
     ]
    },
    {
     "data": {
      "image/png": "[encoded data removed]",
      "text/plain": [
       "<Figure size 432x288 with 1 Axes>"
      ]
     },
     "metadata": {
      "needs_background": "light"
     },
     "output_type": "display_data"
    },
    {
     "data": {
      "image/png": "[encoded data removed]",
      "text/plain": [
       "<Figure size 432x288 with 1 Axes>"
      ]
     },
     "metadata": {
      "needs_background": "light"
     },
     "output_type": "display_data"
    }
   ],
   "source": [
    "# 5 - Train your model and find the best hyperparameters for your dev set\n",
    "#     you will be evaluated on the quality of your predictions on the test set\n",
    "#     Keras expects y_train and y_dev to be one-hot encodings of the labels, i.e. with shape=(n_samples, 5)\n",
    "\n",
    "from tensorflow.keras.utils import to_categorical\n",
    "bs = 64\n",
    "n_epochs = 5\n",
    "x_train = x_train_int_pad \n",
    "x_dev = x_dev_int_pad \n",
    "y_train_oh = to_categorical(y_train)\n",
    "y_dev_oh = to_categorical(y_dev)\n",
    "\n",
    "history = model.fit(x_train, y_train_oh, batch_size=bs, epochs=n_epochs, validation_data=(x_dev, y_dev_oh))\n",
    "\n",
    "import matplotlib.pyplot as plt\n",
    "\n",
    "plt.plot(history.history['accuracy'])\n",
    "plt.plot(history.history['val_accuracy'])\n",
    "plt.title('Accuracy')\n",
    "plt.ylabel('Accuracy')\n",
    "plt.xlabel('Epoch number')\n",
    "plt.legend(['Train acc', 'Dev acc'], loc='upper left')\n",
    "plt.show()\n",
    "plt.plot(history.history['loss'])\n",
    "plt.plot(history.history['val_loss'])\n",
    "plt.title('Loss')\n",
    "plt.ylabel('Loss')\n",
    "plt.xlabel('Epoch number')\n",
    "plt.legend(['Train loss', 'Dev loss'], loc='upper left')\n",
    "plt.show()"
   ]
  },
  {
   "cell_type": "code",
   "execution_count": 84,
   "metadata": {},
   "outputs": [],
   "source": [
    "# 6 - Generate your predictions on the test set using model.predict(x_test)\n",
    "#     https://keras.io/models/model/\n",
    "#     Log your predictions in a file (one line = one integer: 0,1,2,3,4)\n",
    "#     Attach the output file \"logreg_lstm_y_test_sst.txt\" to your deliverable.\n",
    "\n",
    "x_test = x_test_int_pad\n",
    "y_test = model.predict(x_test, batch_size=bs, verbose=0, steps=None, callbacks=None, max_queue_size=10, workers=1)\n",
    "\n",
    "f = open('logreg_lstm_y_test_sst.txt', 'w')\n",
    "for item in y_test:\n",
    "    f.write(\"%s\\n\" % np.argmax(item)) \n",
    "f.close()"
   ]
  },
  {
   "cell_type": "markdown",
   "metadata": {},
   "source": [
    "## 4.3 - innovate !"
   ]
  },
  {
   "cell_type": "code",
   "execution_count": 135,
   "metadata": {
    "scrolled": false
   },
   "outputs": [
    {
     "name": "stdout",
     "output_type": "stream",
     "text": [
      "Model: \"sequential_22\"\n",
      "_________________________________________________________________\n",
      "Layer (type)                 Output Shape              Param #   \n",
      "=================================================================\n",
      "embedding_22 (Embedding)     (None, None, 200)         10000000  \n",
      "_________________________________________________________________\n",
      "bidirectional_14 (Bidirectio (None, 128)               135680    \n",
      "_________________________________________________________________\n",
      "dropout_18 (Dropout)         (None, 128)               0         \n",
      "_________________________________________________________________\n",
      "dense_22 (Dense)             (None, 5)                 645       \n",
      "=================================================================\n",
      "Total params: 10,136,325\n",
      "Trainable params: 10,136,325\n",
      "Non-trainable params: 0\n",
      "_________________________________________________________________\n",
      "None\n",
      "Train on 8544 samples, validate on 1101 samples\n",
      "Epoch 1/5\n",
      "8544/8544 [==============================] - 55s 6ms/sample - loss: 1.5704 - accuracy: 0.2779 - val_loss: 1.5093 - val_accuracy: 0.3551\n",
      "Epoch 2/5\n",
      "8544/8544 [==============================] - 49s 6ms/sample - loss: 1.3719 - accuracy: 0.4110 - val_loss: 1.3614 - val_accuracy: 0.4042\n",
      "Epoch 3/5\n",
      "8544/8544 [==============================] - 48s 6ms/sample - loss: 1.1105 - accuracy: 0.5226 - val_loss: 1.4178 - val_accuracy: 0.3896\n",
      "Epoch 4/5\n",
      "8544/8544 [==============================] - 41s 5ms/sample - loss: 0.8774 - accuracy: 0.6546 - val_loss: 1.5436 - val_accuracy: 0.3924\n",
      "Epoch 5/5\n",
      "8544/8544 [==============================] - 64s 8ms/sample - loss: 0.6666 - accuracy: 0.7554 - val_loss: 1.7380 - val_accuracy: 0.3742\n"
     ]
    },
    {
     "data": {
      "image/png": "[encoded data removed]",
      "text/plain": [
       "<Figure size 432x288 with 1 Axes>"
      ]
     },
     "metadata": {
      "needs_background": "light"
     },
     "output_type": "display_data"
    },
    {
     "data": {
      "image/png": "[encoded data removed]",
      "text/plain": [
       "<Figure size 432x288 with 1 Axes>"
      ]
     },
     "metadata": {
      "needs_background": "light"
     },
     "output_type": "display_data"
    }
   ],
   "source": [
    "# 7 - Open question: find a model that is better on your dev set\n",
    "#     (e.g: use a 1D ConvNet, use a better classifier, pretrain your lookup tables ..)\n",
    "#     you will get point if the results on the test set are better: be careful of not overfitting your dev set too much..\n",
    "#     Attach the output file \"XXX_XXX_y_test_sst.txt\" to your deliverable.\n",
    "\n",
    "\n",
    "from tensorflow.keras.layers import Conv1D, MaxPooling1D, Flatten, Dropout, Concatenate, Flatten, Dropout, AvgPool1D, Bidirectional, GlobalAveragePooling1D \n",
    "\n",
    "\n",
    "embed_dim  = 200 #52 #32  # word embedding dimension\n",
    "nhid       = 64  # number of hidden units in the LSTM\n",
    "vocab_size = 50000  # size of the vocabulary\n",
    "n_classes  = 5\n",
    "\n",
    "#word2vec = Word2Vec(en_embeddings_path, vocab_size=50000)\n",
    "#embedding_matrix = np.zeros((vocab_size, embed_dim))\n",
    "#for w in word2vec.words:\n",
    "#    id_w = tf.keras.preprocessing.text.one_hot(w, vocab_size)[0]\n",
    "#    emb = word2vec.encode(w)\n",
    "#    embedding_matrix[id_w] = emb\n",
    "\n",
    "#from tensorflow.core.protobuf import rewriter_config_pb2\n",
    "#from tensorflow.compat.v1.keras.backend import set_session\n",
    "\n",
    "#tf.keras.backend.clear_session()\n",
    "\n",
    "#config_proto = tf.compat.v1.ConfigProto()\n",
    "#off = rewriter_config_pb2.RewriterConfig.OFF\n",
    "#config_proto.graph_options.rewrite_options.arithmetic_optimization = off\n",
    "#session = tf.compat.v1.Session(config=config_proto)\n",
    "#set_session(session)\n",
    "\n",
    "#model2 = Sequential()\n",
    "#model2.add(Embedding(vocab_size, embed_dim))#, weights=[embedding_matrix]))\n",
    "#model2.add(Bidirectional(LSTM(nhid, dropout=0.5, recurrent_dropout=0.2, kernel_regularizer=l2(1e-5))))\n",
    "#model2.add(Dense(128, activation = 'relu'))\n",
    "#model2.add(Dropout(0.5))\n",
    "#model2.add(Dense(n_classes, activation='softmax'))\n",
    "\n",
    "model2 = Sequential()\n",
    "model2.add(Embedding(vocab_size, embed_dim))#, weights=[embedding_matrix]))\n",
    "model2.add(Bidirectional(LSTM(nhid, dropout=0.5, recurrent_dropout=0.2, kernel_regularizer=l2(1e-5))))\n",
    "model2.add(Dropout(0.5))\n",
    "model2.add(Dense(n_classes, activation='softmax'))\n",
    "\n",
    "loss_classif     =  'categorical_crossentropy' # find the right loss for multi-class classification\n",
    "optimizer        =  'adam' # find the right optimizer\n",
    "metrics_classif  =  ['accuracy']\n",
    "\n",
    "model2.compile(loss=loss_classif,\n",
    "              optimizer=optimizer,\n",
    "              metrics=metrics_classif)\n",
    "\n",
    "print(model2.summary())\n",
    "\n",
    "bs = 64\n",
    "n_epochs = 5\n",
    "\n",
    "history2 = model2.fit(x_train, y_train_oh, batch_size=bs, epochs=n_epochs, validation_data=(x_dev, y_dev_oh))\n",
    "\n",
    "import matplotlib.pyplot as plt\n",
    "\n",
    "plt.plot(history2.history['accuracy'])\n",
    "plt.plot(history2.history['val_accuracy'])\n",
    "plt.title('Accuracy')\n",
    "plt.ylabel('Accuracy')\n",
    "plt.xlabel('Epoch number')\n",
    "plt.legend(['Train acc', 'Dev acc'], loc='upper left')\n",
    "plt.show()\n",
    "plt.plot(history2.history['loss'])\n",
    "plt.plot(history2.history['val_loss'])\n",
    "plt.title('Loss')\n",
    "plt.ylabel('Loss')\n",
    "plt.xlabel('Epoch number')\n",
    "plt.legend(['Train loss', 'Dev loss'], loc='upper left')\n",
    "plt.show()\n",
    "\n"
   ]
  },
  {
   "cell_type": "code",
   "execution_count": 144,
   "metadata": {},
   "outputs": [],
   "source": [
    "x_test = x_test_int_pad\n",
    "y_test = model2.predict(x_test, batch_size=bs, verbose=0, steps=None, callbacks=None, max_queue_size=10, workers=1)\n",
    "f = open('logreg_bidirectionallstm_y_test_sst.txt', 'w')\n",
    "for item in y_test:\n",
    "    f.write(\"%s\\n\" % np.argmax(item)) \n",
    "f.close()"
   ]
  },
  {
   "cell_type": "code",
   "execution_count": 150,
   "metadata": {},
   "outputs": [
    {
     "name": "stdout",
     "output_type": "stream",
     "text": [
      "Model: \"sequential_28\"\n",
      "_________________________________________________________________\n",
      "Layer (type)                 Output Shape              Param #   \n",
      "=================================================================\n",
      "embedding_28 (Embedding)     (None, None, 200)         10000000  \n",
      "_________________________________________________________________\n",
      "conv1d_10 (Conv1D)           (None, None, 128)         128128    \n",
      "_________________________________________________________________\n",
      "max_pooling1d_10 (MaxPooling (None, None, 128)         0         \n",
      "_________________________________________________________________\n",
      "dropout_24 (Dropout)         (None, None, 128)         0         \n",
      "_________________________________________________________________\n",
      "dense_29 (Dense)             (None, None, 5)           645       \n",
      "=================================================================\n",
      "Total params: 10,128,773\n",
      "Trainable params: 10,128,773\n",
      "Non-trainable params: 0\n",
      "_________________________________________________________________\n",
      "None\n",
      "Train on 8544 samples, validate on 1101 samples\n",
      "Epoch 1/3\n",
      "8544/8544 [==============================] - 909s 106ms/sample - loss: 1.5493 - accuracy: 0.2948 - val_loss: 1.5346 - val_accuracy: 0.2886\n",
      "Epoch 2/3\n",
      "8544/8544 [==============================] - 782s 91ms/sample - loss: 1.4737 - accuracy: 0.3228 - val_loss: 1.5742 - val_accuracy: 0.2888\n",
      "Epoch 3/3\n",
      "8544/8544 [==============================] - 875s 102ms/sample - loss: 1.3800 - accuracy: 0.3722 - val_loss: 1.6294 - val_accuracy: 0.2800\n"
     ]
    },
    {
     "data": {
      "image/png": "[encoded data removed]",
      "text/plain": [
       "<Figure size 432x288 with 1 Axes>"
      ]
     },
     "metadata": {
      "needs_background": "light"
     },
     "output_type": "display_data"
    },
    {
     "data": {
      "image/png": "[encoded data removed]",
      "text/plain": [
       "<Figure size 432x288 with 1 Axes>"
      ]
     },
     "metadata": {
      "needs_background": "light"
     },
     "output_type": "display_data"
    }
   ],
   "source": [
    "model3 = Sequential()\n",
    "model3.add(Embedding(vocab_size, embed_dim))\n",
    "model3.add(Conv1D(128, 5, activation='relu'))\n",
    "model3.add(MaxPooling1D(5))\n",
    "model3.add(Dropout(0.2))\n",
    "model3.add(Dense(n_classes, activation='sigmoid'))\n",
    "\n",
    "loss_classif     =  'categorical_crossentropy' # find the right loss for multi-class classification\n",
    "optimizer        =  'adam' # find the right optimizer\n",
    "metrics_classif  =  ['accuracy']\n",
    "\n",
    "model3.compile(loss=loss_classif,\n",
    "              optimizer=optimizer,\n",
    "              metrics=metrics_classif)\n",
    "print(model3.summary())\n",
    "          \n",
    "bs = 1\n",
    "n_epochs = 3\n",
    "          \n",
    "history3 = model3.fit(x_train, y_train_oh, batch_size=bs, epochs=n_epochs, validation_data=(x_dev, y_dev_oh))\n",
    "\n",
    "plt.plot(history3.history['accuracy'])\n",
    "plt.plot(history3.history['val_accuracy'])\n",
    "plt.title('Accuracy')\n",
    "plt.ylabel('Accuracy')\n",
    "plt.xlabel('Epoch number')\n",
    "plt.legend(['Train acc', 'Dev acc'], loc='upper left')\n",
    "plt.show()\n",
    "plt.plot(history3.history['loss'])\n",
    "plt.plot(history3.history['val_loss'])\n",
    "plt.title('Loss')\n",
    "plt.ylabel('Loss')\n",
    "plt.xlabel('Epoch number')\n",
    "plt.legend(['Train loss', 'Dev loss'], loc='upper left')\n",
    "plt.show()\n",
    "\n"
   ]
  },
  {
   "cell_type": "code",
   "execution_count": 130,
   "metadata": {},
   "outputs": [
    {
     "name": "stdout",
     "output_type": "stream",
     "text": [
      "Model: \"sequential_17\"\n",
      "_________________________________________________________________\n",
      "Layer (type)                 Output Shape              Param #   \n",
      "=================================================================\n",
      "embedding_17 (Embedding)     (None, None, 200)         10000000  \n",
      "_________________________________________________________________\n",
      "conv1d_6 (Conv1D)            (None, None, 32)          19232     \n",
      "_________________________________________________________________\n",
      "max_pooling1d_6 (MaxPooling1 (None, None, 32)          0         \n",
      "_________________________________________________________________\n",
      "dropout_13 (Dropout)         (None, None, 32)          0         \n",
      "_________________________________________________________________\n",
      "conv1d_7 (Conv1D)            (None, None, 32)          4128      \n",
      "_________________________________________________________________\n",
      "max_pooling1d_7 (MaxPooling1 (None, None, 32)          0         \n",
      "_________________________________________________________________\n",
      "dropout_14 (Dropout)         (None, None, 32)          0         \n",
      "_________________________________________________________________\n",
      "conv1d_8 (Conv1D)            (None, None, 32)          5152      \n",
      "_________________________________________________________________\n",
      "max_pooling1d_8 (MaxPooling1 (None, None, 32)          0         \n",
      "_________________________________________________________________\n",
      "dropout_15 (Dropout)         (None, None, 32)          0         \n",
      "_________________________________________________________________\n",
      "lstm_13 (LSTM)               (None, 64)                24832     \n",
      "_________________________________________________________________\n",
      "dense_19 (Dense)             (None, 5)                 325       \n",
      "=================================================================\n",
      "Total params: 10,053,669\n",
      "Trainable params: 10,053,669\n",
      "Non-trainable params: 0\n",
      "_________________________________________________________________\n",
      "None\n",
      "Train on 8544 samples, validate on 1101 samples\n",
      "Epoch 1/5\n",
      "8544/8544 [==============================] - 28s 3ms/sample - loss: 1.5736 - accuracy: 0.2618 - val_loss: 1.5696 - val_accuracy: 0.2616\n",
      "Epoch 2/5\n",
      "8544/8544 [==============================] - 28s 3ms/sample - loss: 1.5341 - accuracy: 0.2808 - val_loss: 1.5690 - val_accuracy: 0.2716\n",
      "Epoch 3/5\n",
      "8544/8544 [==============================] - 24s 3ms/sample - loss: 1.3864 - accuracy: 0.3659 - val_loss: 1.6157 - val_accuracy: 0.2807\n",
      "Epoch 4/5\n",
      "8544/8544 [==============================] - 25s 3ms/sample - loss: 1.1881 - accuracy: 0.4664 - val_loss: 1.8168 - val_accuracy: 0.2734\n",
      "Epoch 5/5\n",
      "8544/8544 [==============================] - 27s 3ms/sample - loss: 1.0177 - accuracy: 0.5597 - val_loss: 2.0099 - val_accuracy: 0.2725\n"
     ]
    },
    {
     "data": {
      "image/png": "[encoded data removed]",
      "text/plain": [
       "<Figure size 432x288 with 1 Axes>"
      ]
     },
     "metadata": {
      "needs_background": "light"
     },
     "output_type": "display_data"
    },
    {
     "data": {
      "image/png": "[encoded data removed]",
      "text/plain": [
       "<Figure size 432x288 with 1 Axes>"
      ]
     },
     "metadata": {
      "needs_background": "light"
     },
     "output_type": "display_data"
    }
   ],
   "source": [
    "model4 = Sequential()\n",
    "model4.add(Embedding(vocab_size, embed_dim))\n",
    "model4.add(Conv1D(filters=32, kernel_size=3, padding='same', activation='relu'))\n",
    "model4.add(MaxPooling1D(pool_size=2))\n",
    "model4.add(Dropout(0.3))\n",
    "model4.add(Conv1D(filters=32, kernel_size=4, padding='same', activation='relu'))\n",
    "model4.add(MaxPooling1D(pool_size=2))\n",
    "model4.add(Dropout(0.3))\n",
    "model4.add(Conv1D(filters=32, kernel_size=5, padding='same', activation='relu'))\n",
    "model4.add(MaxPooling1D(pool_size=2))\n",
    "model4.add(Dropout(0.3))\n",
    "model4.add(LSTM(nhid,dropout=0.3, recurrent_dropout=0.3, kernel_regularizer=l2(1e-5)))\n",
    "model4.add(Dense(n_classes, activation='softmax'))\n",
    "model4.compile(loss=loss_classif, optimizer=optimizer, metrics=metrics_classif)\n",
    "\n",
    "print(model4.summary())\n",
    "\n",
    "bs = 64\n",
    "n_epochs = 5\n",
    "\n",
    "history4 = model4.fit(x_train, y_train_oh, batch_size=bs, epochs=n_epochs, validation_data=(x_dev, y_dev_oh))\n",
    "\n",
    "plt.plot(history4.history['accuracy'])\n",
    "plt.plot(history4.history['val_accuracy'])\n",
    "plt.title('Accuracy')\n",
    "plt.ylabel('Accuracy')\n",
    "plt.xlabel('Epoch number')\n",
    "plt.legend(['Train acc', 'Dev acc'], loc='upper left')\n",
    "plt.show()\n",
    "plt.plot(history4.history['loss'])\n",
    "plt.plot(history4.history['val_loss'])\n",
    "plt.title('Loss')\n",
    "plt.ylabel('Loss')\n",
    "plt.xlabel('Epoch number')\n",
    "plt.legend(['Train loss', 'Dev loss'], loc='upper left')\n",
    "plt.show()\n",
    "\n"
   ]
  },
  {
   "cell_type": "code",
   "execution_count": 149,
   "metadata": {
    "scrolled": false
   },
   "outputs": [
    {
     "name": "stdout",
     "output_type": "stream",
     "text": [
      "Model: \"sequential_27\"\n",
      "_________________________________________________________________\n",
      "Layer (type)                 Output Shape              Param #   \n",
      "=================================================================\n",
      "embedding_27 (Embedding)     (None, None, 200)         10000000  \n",
      "_________________________________________________________________\n",
      "global_average_pooling1d_3 ( (None, 200)               0         \n",
      "_________________________________________________________________\n",
      "dropout_23 (Dropout)         (None, 200)               0         \n",
      "_________________________________________________________________\n",
      "dense_28 (Dense)             (None, 5)                 1005      \n",
      "=================================================================\n",
      "Total params: 10,001,005\n",
      "Trainable params: 10,001,005\n",
      "Non-trainable params: 0\n",
      "_________________________________________________________________\n",
      "None\n",
      "Train on 8544 samples, validate on 1101 samples\n",
      "Epoch 1/10\n",
      "8544/8544 [==============================] - 16s 2ms/sample - loss: 1.5739 - accuracy: 0.2851 - val_loss: 1.5650 - val_accuracy: 0.2970\n",
      "Epoch 2/10\n",
      "8544/8544 [==============================] - 13s 2ms/sample - loss: 1.5500 - accuracy: 0.3324 - val_loss: 1.5481 - val_accuracy: 0.3097\n",
      "Epoch 3/10\n",
      "8544/8544 [==============================] - 15s 2ms/sample - loss: 1.5145 - accuracy: 0.3732 - val_loss: 1.5131 - val_accuracy: 0.3624\n",
      "Epoch 4/10\n",
      "8544/8544 [==============================] - 14s 2ms/sample - loss: 1.4555 - accuracy: 0.4037 - val_loss: 1.4709 - val_accuracy: 0.3669\n",
      "Epoch 5/10\n",
      "8544/8544 [==============================] - 13s 2ms/sample - loss: 1.3779 - accuracy: 0.4353 - val_loss: 1.4307 - val_accuracy: 0.3778\n",
      "Epoch 6/10\n",
      "8544/8544 [==============================] - 13s 2ms/sample - loss: 1.2930 - accuracy: 0.4857 - val_loss: 1.3959 - val_accuracy: 0.3924\n",
      "Epoch 7/10\n",
      "8544/8544 [==============================] - 14s 2ms/sample - loss: 1.2048 - accuracy: 0.5392 - val_loss: 1.3740 - val_accuracy: 0.4042\n",
      "Epoch 8/10\n",
      "8544/8544 [==============================] - 13s 2ms/sample - loss: 1.1182 - accuracy: 0.5966 - val_loss: 1.3584 - val_accuracy: 0.4024\n",
      "Epoch 9/10\n",
      "8544/8544 [==============================] - 14s 2ms/sample - loss: 1.0325 - accuracy: 0.6557 - val_loss: 1.3575 - val_accuracy: 0.3969\n",
      "Epoch 10/10\n",
      "8544/8544 [==============================] - 14s 2ms/sample - loss: 0.9544 - accuracy: 0.6983 - val_loss: 1.3599 - val_accuracy: 0.3933\n"
     ]
    },
    {
     "data": {
      "image/png": "[encoded data removed]",
      "text/plain": [
       "<Figure size 432x288 with 1 Axes>"
      ]
     },
     "metadata": {
      "needs_background": "light"
     },
     "output_type": "display_data"
    },
    {
     "data": {
      "image/png": "[encoded data removed]",
      "text/plain": [
       "<Figure size 432x288 with 1 Axes>"
      ]
     },
     "metadata": {
      "needs_background": "light"
     },
     "output_type": "display_data"
    }
   ],
   "source": [
    "model5 = Sequential()\n",
    "model5.add(Embedding(vocab_size, embed_dim))#, weights=[embedding_matrix]))\n",
    "model5.add(GlobalAveragePooling1D())\n",
    "model5.add(Dropout(0.5))\n",
    "model5.add(Dense(n_classes, activation='softmax'))\n",
    "\n",
    "loss_classif     =  'categorical_crossentropy' # find the right loss for multi-class classification\n",
    "optimizer        =  'adam' # find the right optimizer\n",
    "metrics_classif  =  ['accuracy']\n",
    "\n",
    "model5.compile(loss=loss_classif,\n",
    "              optimizer=optimizer,\n",
    "              metrics=metrics_classif)\n",
    "\n",
    "print(model5.summary())\n",
    "\n",
    "bs = 64\n",
    "n_epochs = 10\n",
    "\n",
    "history5 = model5.fit(x_train, y_train_oh, batch_size=bs, epochs=n_epochs, validation_data=(x_dev, y_dev_oh))\n",
    "\n",
    "plt.plot(history5.history['accuracy'])\n",
    "plt.plot(history5.history['val_accuracy'])\n",
    "plt.title('Accuracy')\n",
    "plt.ylabel('Accuracy')\n",
    "plt.xlabel('Epoch number')\n",
    "plt.legend(['Train acc', 'Dev acc'], loc='upper left')\n",
    "plt.show()\n",
    "plt.plot(history5.history['loss'])\n",
    "plt.plot(history5.history['val_loss'])\n",
    "plt.title('Loss')\n",
    "plt.ylabel('Loss')\n",
    "plt.xlabel('Epoch number')\n",
    "plt.legend(['Train loss', 'Dev loss'], loc='upper left')\n",
    "plt.show()\n",
    "\n"
   ]
  },
  {
   "cell_type": "code",
   "execution_count": null,
   "metadata": {},
   "outputs": [],
   "source": []
  }
 ],
 "metadata": {
  "kernelspec": {
   "display_name": "Python 3",
   "language": "python",
   "name": "python3"
  },
  "language_info": {
   "codemirror_mode": {
    "name": "ipython",
    "version": 3
   },
   "file_extension": ".py",
   "mimetype": "text/x-python",
   "name": "python",
   "nbconvert_exporter": "python",
   "pygments_lexer": "ipython3",
   "version": "3.7.4"
  }
 },
 "nbformat": 4,
 "nbformat_minor": 4
}
